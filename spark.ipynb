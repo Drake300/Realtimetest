{
 "cells": [
  {
   "cell_type": "code",
   "execution_count": 2,
   "id": "678935b0",
   "metadata": {},
   "outputs": [
    {
     "name": "stdout",
     "output_type": "stream",
     "text": [
      "Collecting pyspark\n",
      "  Downloading pyspark-3.3.1.tar.gz (281.4 MB)\n",
      "\u001b[K     |████████████████████████████████| 281.4 MB 3.0 kB/s eta 0:00:012  |▏                               | 1.7 MB 923 kB/s eta 0:05:03     |█▎                              | 10.8 MB 3.0 MB/s eta 0:01:29     |██▉                             | 25.3 MB 7.5 MB/s eta 0:00:35     |███                             | 25.9 MB 7.5 MB/s eta 0:00:34     |███                             | 26.4 MB 7.5 MB/s eta 0:00:34     |███▍                            | 29.6 MB 6.1 MB/s eta 0:00:42     |████▋                           | 40.7 MB 4.2 MB/s eta 0:00:58     |█████▎                          | 46.9 MB 5.6 MB/s eta 0:00:42     |█████▊                          | 50.2 MB 5.6 MB/s eta 0:00:42     |██████▏                         | 54.5 MB 7.7 MB/s eta 0:00:30     |██████▌                         | 57.6 MB 5.2 MB/s eta 0:00:43     |██████▉                         | 59.9 MB 5.2 MB/s eta 0:00:43     |████████                        | 69.9 MB 5.0 MB/s eta 0:00:43     |████████▏                       | 71.8 MB 5.0 MB/s eta 0:00:42     |████████▍                       | 73.5 MB 5.0 MB/s eta 0:00:42     |█████████                       | 78.5 MB 5.0 MB/s eta 0:00:41 MB 6.6 MB/s eta 0:00:30     |█████████▌                      | 83.6 MB 6.6 MB/s eta 0:00:30     |██████████▌                     | 91.9 MB 3.5 MB/s eta 0:00:54     |███████████▊                    | 102.9 MB 13.3 MB/s eta 0:00:14     |████████████▌                   | 110.0 MB 6.3 MB/s eta 0:00:28     |████████████▋                   | 110.9 MB 6.3 MB/s eta 0:00:28     |██████████████▉                 | 130.5 MB 5.3 MB/s eta 0:00:29     |████████████████▏               | 142.1 MB 4.5 MB/s eta 0:00:32     |████████████████▍               | 144.5 MB 4.5 MB/s eta 0:00:31     |████████████████▊               | 147.0 MB 5.7 MB/s eta 0:00:24     |█████████████████▍              | 153.3 MB 5.7 MB/s eta 0:00:23     |█████████████████▊              | 155.6 MB 4.4 MB/s eta 0:00:29     |█████████████████▉              | 156.7 MB 4.4 MB/s eta 0:00:29     |██████████████████▏             | 159.6 MB 4.4 MB/s eta 0:00:28     |██████████████████▍             | 162.0 MB 4.3 MB/s eta 0:00:29     |██████████████████▌             | 163.1 MB 4.3 MB/s eta 0:00:28     |██████████████████▉             | 165.9 MB 4.0 MB/s eta 0:00:29     |███████████████████             | 167.4 MB 3.5 MB/s eta 0:00:33     |███████████████████▊            | 173.7 MB 4.1 MB/s eta 0:00:27     |████████████████████▎           | 178.2 MB 4.3 MB/s eta 0:00:25     |████████████████████▌           | 180.5 MB 4.0 MB/s eta 0:00:26     |████████████████████▋           | 180.8 MB 4.0 MB/s eta 0:00:25     |████████████████████▋           | 181.2 MB 4.0 MB/s eta 0:00:25     |█████████████████████           | 184.6 MB 5.4 MB/s eta 0:00:19     |█████████████████████▏          | 186.2 MB 5.4 MB/s eta 0:00:18     |█████████████████████▌          | 189.3 MB 4.6 MB/s eta 0:00:21     |██████████████████████▎         | 195.7 MB 4.0 MB/s eta 0:00:22     |██████████████████████▉         | 201.0 MB 6.7 MB/s eta 0:00:13     |███████████████████████▌        | 206.5 MB 7.5 MB/s eta 0:00:10     |███████████████████████▌        | 206.8 MB 7.5 MB/s eta 0:00:10     |███████████████████████▉        | 209.3 MB 7.5 MB/s eta 0:00:10     |████████████████████████        | 210.4 MB 6.2 MB/s eta 0:00:12     |████████████████████████        | 210.8 MB 6.2 MB/s eta 0:00:12     |████████████████████████        | 211.5 MB 6.2 MB/s eta 0:00:12     |████████████████████████        | 211.8 MB 6.2 MB/s eta 0:00:12     |████████████████████████▋       | 216.3 MB 3.2 MB/s eta 0:00:21     |█████████████████████████▌      | 224.7 MB 3.8 MB/s eta 0:00:16     |█████████████████████████▉      | 227.6 MB 3.8 MB/s eta 0:00:15     |██████████████████████████      | 228.5 MB 3.8 MB/s eta 0:00:15     |██████████████████████████▎     | 231.2 MB 4.9 MB/s eta 0:00:11     |██████████████████████████▎     | 231.5 MB 4.9 MB/s eta 0:00:11     |██████████████████████████▍     | 231.9 MB 4.9 MB/s eta 0:00:11     |██████████████████████████▌     | 233.1 MB 4.9 MB/s eta 0:00:10     |██████████████████████████▋     | 233.6 MB 5.7 MB/s eta 0:00:09     |███████████████████████████▌    | 241.4 MB 3.0 MB/s eta 0:00:14     |████████████████████████████    | 246.3 MB 3.6 MB/s eta 0:00:10     |████████████████████████████▊   | 252.9 MB 4.3 MB/s eta 0:00:07     |█████████████████████████████▎  | 257.1 MB 4.1 MB/s eta 0:00:06     |██████████████████████████████▍ | 266.8 MB 4.5 MB/s eta 0:00:04     |██████████████████████████████▍ | 267.5 MB 4.5 MB/s eta 0:00:04     |██████████████████████████████▊ | 269.8 MB 4.5 MB/s eta 0:00:03\n",
      "\u001b[?25hCollecting py4j==0.10.9.5\n",
      "  Downloading py4j-0.10.9.5-py2.py3-none-any.whl (199 kB)\n",
      "\u001b[K     |████████████████████████████████| 199 kB 4.9 MB/s eta 0:00:01\n",
      "\u001b[?25hBuilding wheels for collected packages: pyspark\n",
      "  Building wheel for pyspark (setup.py) ... \u001b[?25ldone\n",
      "\u001b[?25h  Created wheel for pyspark: filename=pyspark-3.3.1-py2.py3-none-any.whl size=281845510 sha256=b99586cb90066ffcd86d01afb9afee2b6133d16b546278a31a7a4b7cda0705b5\n",
      "  Stored in directory: /home/jupyter/.cache/pip/wheels/43/dc/11/ec201cd671da62fa9c5cc77078235e40722170ceba231d7598\n",
      "Successfully built pyspark\n",
      "Installing collected packages: py4j, pyspark\n",
      "Successfully installed py4j-0.10.9.5 pyspark-3.3.1\n"
     ]
    }
   ],
   "source": [
    "!pip3 install pyspark"
   ]
  },
  {
   "cell_type": "code",
   "execution_count": 3,
   "id": "40a97296",
   "metadata": {},
   "outputs": [
    {
     "data": {
      "text/html": [
       "<div>\n",
       "<style scoped>\n",
       "    .dataframe tbody tr th:only-of-type {\n",
       "        vertical-align: middle;\n",
       "    }\n",
       "\n",
       "    .dataframe tbody tr th {\n",
       "        vertical-align: top;\n",
       "    }\n",
       "\n",
       "    .dataframe thead th {\n",
       "        text-align: right;\n",
       "    }\n",
       "</style>\n",
       "<table border=\"1\" class=\"dataframe\">\n",
       "  <thead>\n",
       "    <tr style=\"text-align: right;\">\n",
       "      <th></th>\n",
       "      <th>Email</th>\n",
       "      <th>Sub</th>\n",
       "      <th>body</th>\n",
       "      <th>Date</th>\n",
       "      <th>time</th>\n",
       "    </tr>\n",
       "  </thead>\n",
       "  <tbody>\n",
       "    <tr>\n",
       "      <th>0</th>\n",
       "      <td>abc@gmail.com</td>\n",
       "      <td>Book Return</td>\n",
       "      <td>return of book</td>\n",
       "      <td>19/12/2022</td>\n",
       "      <td>15:24</td>\n",
       "    </tr>\n",
       "    <tr>\n",
       "      <th>1</th>\n",
       "      <td>clcm@gmail.com</td>\n",
       "      <td>Book Refund</td>\n",
       "      <td>refund of Book</td>\n",
       "      <td>19/12/2022</td>\n",
       "      <td>15:25</td>\n",
       "    </tr>\n",
       "  </tbody>\n",
       "</table>\n",
       "</div>"
      ],
      "text/plain": [
       "            Email          Sub            body        Date   time\n",
       "0   abc@gmail.com  Book Return  return of book  19/12/2022  15:24\n",
       "1  clcm@gmail.com  Book Refund  refund of Book  19/12/2022  15:25"
      ]
     },
     "execution_count": 3,
     "metadata": {},
     "output_type": "execute_result"
    }
   ],
   "source": [
    "import pyspark\n",
    "import pandas as pd\n",
    "pd.read_csv('file.csv')"
   ]
  },
  {
   "cell_type": "code",
   "execution_count": 2,
   "id": "12b1a481",
   "metadata": {},
   "outputs": [],
   "source": [
    "from pyspark.sql import SparkSession"
   ]
  },
  {
   "cell_type": "code",
   "execution_count": null,
   "id": "4eed26a4",
   "metadata": {},
   "outputs": [],
   "source": []
  },
  {
   "cell_type": "code",
   "execution_count": 9,
   "id": "2f59858f",
   "metadata": {},
   "outputs": [],
   "source": []
  },
  {
   "cell_type": "code",
   "execution_count": 10,
   "id": "a8514bcf",
   "metadata": {},
   "outputs": [
    {
     "data": {
      "text/plain": [
       "<pyspark.conf.SparkConf at 0x7ff48bda8400>"
      ]
     },
     "execution_count": 10,
     "metadata": {},
     "output_type": "execute_result"
    }
   ],
   "source": []
  },
  {
   "cell_type": "code",
   "execution_count": 3,
   "id": "ca074138",
   "metadata": {},
   "outputs": [
    {
     "name": "stdout",
     "output_type": "stream",
     "text": [
      "22/12/25 15:55:00 WARN Utils: Your hostname, jupyter-VirtualBox resolves to a loopback address: 127.0.1.1; using 192.168.1.10 instead (on interface enp0s3)\n",
      "22/12/25 15:55:00 WARN Utils: Set SPARK_LOCAL_IP if you need to bind to another address\n"
     ]
    },
    {
     "name": "stderr",
     "output_type": "stream",
     "text": [
      "Setting default log level to \"WARN\".\n",
      "To adjust logging level use sc.setLogLevel(newLevel). For SparkR, use setLogLevel(newLevel).\n"
     ]
    },
    {
     "name": "stdout",
     "output_type": "stream",
     "text": [
      "22/12/25 15:55:06 WARN NativeCodeLoader: Unable to load native-hadoop library for your platform... using builtin-java classes where applicable\n"
     ]
    }
   ],
   "source": [
    "from pyspark import SparkConf, SparkContext\n",
    "sc = SparkContext(conf=SparkConf().setAppName(\"MyApp\").setMaster(\"local\"))"
   ]
  },
  {
   "cell_type": "code",
   "execution_count": 4,
   "id": "a73d7216",
   "metadata": {},
   "outputs": [],
   "source": [
    "spark=SparkSession.builder.appName('Practise').getOrCreate()"
   ]
  },
  {
   "cell_type": "code",
   "execution_count": 5,
   "id": "c221c346",
   "metadata": {},
   "outputs": [
    {
     "data": {
      "text/html": [
       "\n",
       "            <div>\n",
       "                <p><b>SparkSession - in-memory</b></p>\n",
       "                \n",
       "        <div>\n",
       "            <p><b>SparkContext</b></p>\n",
       "\n",
       "            <p><a href=\"http://jupyter-VirtualBox.domain.name:4040\">Spark UI</a></p>\n",
       "\n",
       "            <dl>\n",
       "              <dt>Version</dt>\n",
       "                <dd><code>v3.3.1</code></dd>\n",
       "              <dt>Master</dt>\n",
       "                <dd><code>local</code></dd>\n",
       "              <dt>AppName</dt>\n",
       "                <dd><code>MyApp</code></dd>\n",
       "            </dl>\n",
       "        </div>\n",
       "        \n",
       "            </div>\n",
       "        "
      ],
      "text/plain": [
       "<pyspark.sql.session.SparkSession at 0x7fb72c10b790>"
      ]
     },
     "execution_count": 5,
     "metadata": {},
     "output_type": "execute_result"
    }
   ],
   "source": [
    "spark"
   ]
  },
  {
   "cell_type": "code",
   "execution_count": 14,
   "id": "f028a834",
   "metadata": {},
   "outputs": [
    {
     "name": "stderr",
     "output_type": "stream",
     "text": [
      "                                                                                \r"
     ]
    }
   ],
   "source": [
    "dfs=spark.read.csv('file.csv')"
   ]
  },
  {
   "cell_type": "code",
   "execution_count": 16,
   "id": "04021614",
   "metadata": {},
   "outputs": [
    {
     "name": "stdout",
     "output_type": "stream",
     "text": [
      "+--------------+-----------+--------------+----------+-----+\n",
      "|           _c0|        _c1|           _c2|       _c3|  _c4|\n",
      "+--------------+-----------+--------------+----------+-----+\n",
      "|         Email|        Sub|          body|      Date| time|\n",
      "| abc@gmail.com|Book Return|return of book|19/12/2022|15:24|\n",
      "|clcm@gmail.com|Book Refund|refund of Book|19/12/2022|15:25|\n",
      "+--------------+-----------+--------------+----------+-----+\n",
      "\n"
     ]
    }
   ],
   "source": [
    "dfs.show()"
   ]
  },
  {
   "cell_type": "code",
   "execution_count": 24,
   "id": "d5ff165d",
   "metadata": {},
   "outputs": [
    {
     "name": "stdout",
     "output_type": "stream",
     "text": [
      "+--------------+-----------+--------------+----------+-----+\n",
      "|         Email|        Sub|          body|      Date| time|\n",
      "+--------------+-----------+--------------+----------+-----+\n",
      "| abc@gmail.com|Book Return|return of book|19/12/2022|15:24|\n",
      "|clcm@gmail.com|Book Refund|refund of Book|19/12/2022|15:25|\n",
      "+--------------+-----------+--------------+----------+-----+\n",
      "\n"
     ]
    }
   ],
   "source": [
    "dfs2=spark.read.option('header','true').csv('file.csv')\n",
    "dfs2.show()"
   ]
  },
  {
   "cell_type": "code",
   "execution_count": 25,
   "id": "3510f8c1",
   "metadata": {},
   "outputs": [
    {
     "name": "stdout",
     "output_type": "stream",
     "text": [
      "root\n",
      " |-- Email: string (nullable = true)\n",
      " |-- Sub: string (nullable = true)\n",
      " |-- body: string (nullable = true)\n",
      " |-- Date: string (nullable = true)\n",
      " |-- time: string (nullable = true)\n",
      "\n"
     ]
    }
   ],
   "source": [
    "dfs2.printSchema()          #all columns are strings as spark read as sting"
   ]
  },
  {
   "cell_type": "code",
   "execution_count": 26,
   "id": "dd551ecc",
   "metadata": {},
   "outputs": [
    {
     "name": "stdout",
     "output_type": "stream",
     "text": [
      "+--------------+-----------+--------------+----------+-------------------+\n",
      "|         Email|        Sub|          body|      Date|               time|\n",
      "+--------------+-----------+--------------+----------+-------------------+\n",
      "| abc@gmail.com|Book Return|return of book|19/12/2022|2022-12-23 15:24:00|\n",
      "|clcm@gmail.com|Book Refund|refund of Book|19/12/2022|2022-12-23 15:25:00|\n",
      "+--------------+-----------+--------------+----------+-------------------+\n",
      "\n"
     ]
    }
   ],
   "source": [
    "dfs3=spark.read.csv('file.csv',header=True,inferSchema=True)\n",
    "dfs3.show()"
   ]
  },
  {
   "cell_type": "code",
   "execution_count": 27,
   "id": "8a100809",
   "metadata": {},
   "outputs": [
    {
     "name": "stdout",
     "output_type": "stream",
     "text": [
      "root\n",
      " |-- Email: string (nullable = true)\n",
      " |-- Sub: string (nullable = true)\n",
      " |-- body: string (nullable = true)\n",
      " |-- Date: string (nullable = true)\n",
      " |-- time: timestamp (nullable = true)\n",
      "\n"
     ]
    }
   ],
   "source": [
    "dfs3.printSchema()"
   ]
  },
  {
   "cell_type": "code",
   "execution_count": 28,
   "id": "a3145b6b",
   "metadata": {},
   "outputs": [
    {
     "data": {
      "text/plain": [
       "pyspark.sql.dataframe.DataFrame"
      ]
     },
     "execution_count": 28,
     "metadata": {},
     "output_type": "execute_result"
    }
   ],
   "source": [
    "type(dfs3)        #dataframe is a kind of data structure"
   ]
  },
  {
   "cell_type": "code",
   "execution_count": 29,
   "id": "41486c52",
   "metadata": {},
   "outputs": [
    {
     "data": {
      "text/plain": [
       "['Email', 'Sub', 'body', 'Date', 'time']"
      ]
     },
     "execution_count": 29,
     "metadata": {},
     "output_type": "execute_result"
    }
   ],
   "source": [
    "dfs3.columns"
   ]
  },
  {
   "cell_type": "code",
   "execution_count": 30,
   "id": "e9b4e22e",
   "metadata": {},
   "outputs": [
    {
     "data": {
      "text/plain": [
       "Row(Email='abc@gmail.com', Sub='Book Return', body='return of book', Date='19/12/2022', time=datetime.datetime(2022, 12, 23, 15, 24))"
      ]
     },
     "execution_count": 30,
     "metadata": {},
     "output_type": "execute_result"
    }
   ],
   "source": [
    "dfs3.head()"
   ]
  },
  {
   "cell_type": "code",
   "execution_count": 32,
   "id": "f86d3011",
   "metadata": {},
   "outputs": [
    {
     "name": "stdout",
     "output_type": "stream",
     "text": [
      "+-----------+\n",
      "|        Sub|\n",
      "+-----------+\n",
      "|Book Return|\n",
      "|Book Refund|\n",
      "+-----------+\n",
      "\n"
     ]
    }
   ],
   "source": [
    "dfs3.select('Sub').show()"
   ]
  },
  {
   "cell_type": "code",
   "execution_count": 33,
   "id": "185f20db",
   "metadata": {},
   "outputs": [
    {
     "name": "stdout",
     "output_type": "stream",
     "text": [
      "+--------------+-----------+\n",
      "|         Email|        Sub|\n",
      "+--------------+-----------+\n",
      "| abc@gmail.com|Book Return|\n",
      "|clcm@gmail.com|Book Refund|\n",
      "+--------------+-----------+\n",
      "\n"
     ]
    }
   ],
   "source": [
    "dfs3.select(['Email','Sub']).show()"
   ]
  },
  {
   "cell_type": "code",
   "execution_count": 35,
   "id": "fe3221d9",
   "metadata": {},
   "outputs": [
    {
     "name": "stdout",
     "output_type": "stream",
     "text": [
      "+-------+--------------+-----------+--------------+----------+\n",
      "|summary|         Email|        Sub|          body|      Date|\n",
      "+-------+--------------+-----------+--------------+----------+\n",
      "|  count|             2|          2|             2|         2|\n",
      "|   mean|          null|       null|          null|      null|\n",
      "| stddev|          null|       null|          null|      null|\n",
      "|    min| abc@gmail.com|Book Refund|refund of Book|19/12/2022|\n",
      "|    max|clcm@gmail.com|Book Return|return of book|19/12/2022|\n",
      "+-------+--------------+-----------+--------------+----------+\n",
      "\n"
     ]
    }
   ],
   "source": [
    "dfs3.describe().show()          "
   ]
  },
  {
   "cell_type": "code",
   "execution_count": 38,
   "id": "911c2ed3",
   "metadata": {},
   "outputs": [
    {
     "name": "stdout",
     "output_type": "stream",
     "text": [
      "+--------------+-----------+--------------+----------+-------------------+-------+\n",
      "|         Email|        Sub|          body|      Date|               time|New_col|\n",
      "+--------------+-----------+--------------+----------+-------------------+-------+\n",
      "| abc@gmail.com|Book Return|return of book|19/12/2022|2022-12-23 15:24:00|   null|\n",
      "|clcm@gmail.com|Book Refund|refund of Book|19/12/2022|2022-12-23 15:25:00|   null|\n",
      "+--------------+-----------+--------------+----------+-------------------+-------+\n",
      "\n"
     ]
    }
   ],
   "source": [
    "dfs3.withColumn('New_col',dfs3['Email']+'aa').show()  #have to save to another var for permanent"
   ]
  },
  {
   "cell_type": "code",
   "execution_count": 39,
   "id": "c98bd3e2",
   "metadata": {},
   "outputs": [
    {
     "data": {
      "text/plain": [
       "[('Email', 'string'),\n",
       " ('Sub', 'string'),\n",
       " ('body', 'string'),\n",
       " ('Date', 'string'),\n",
       " ('time', 'timestamp')]"
      ]
     },
     "execution_count": 39,
     "metadata": {},
     "output_type": "execute_result"
    }
   ],
   "source": [
    "dfs3.dtypes"
   ]
  },
  {
   "cell_type": "code",
   "execution_count": 40,
   "id": "b20218f7",
   "metadata": {},
   "outputs": [
    {
     "name": "stdout",
     "output_type": "stream",
     "text": [
      "+--------------+-----------+--------------+----------+-------------------+-------+\n",
      "|         Email|        Sub|          body|      Date|               time|New_col|\n",
      "+--------------+-----------+--------------+----------+-------------------+-------+\n",
      "| abc@gmail.com|Book Return|return of book|19/12/2022|2022-12-23 15:24:00|   null|\n",
      "|clcm@gmail.com|Book Refund|refund of Book|19/12/2022|2022-12-23 15:25:00|   null|\n",
      "+--------------+-----------+--------------+----------+-------------------+-------+\n",
      "\n"
     ]
    }
   ],
   "source": [
    "dfs4=dfs3.withColumn('New_col',dfs3['Email']+'aa').show()"
   ]
  },
  {
   "cell_type": "code",
   "execution_count": null,
   "id": "f2b1e169",
   "metadata": {},
   "outputs": [],
   "source": [
    "##Drop columns"
   ]
  },
  {
   "cell_type": "code",
   "execution_count": 45,
   "id": "947ba7e7",
   "metadata": {},
   "outputs": [],
   "source": [
    "dfs4=dfs3.drop('New_col')"
   ]
  },
  {
   "cell_type": "code",
   "execution_count": 46,
   "id": "8d3745fc",
   "metadata": {},
   "outputs": [
    {
     "name": "stdout",
     "output_type": "stream",
     "text": [
      "+--------------+-----------+--------------+----------+-------------------+\n",
      "|         Email|        Sub|          body|      Date|               time|\n",
      "+--------------+-----------+--------------+----------+-------------------+\n",
      "| abc@gmail.com|Book Return|return of book|19/12/2022|2022-12-23 15:24:00|\n",
      "|clcm@gmail.com|Book Refund|refund of Book|19/12/2022|2022-12-23 15:25:00|\n",
      "+--------------+-----------+--------------+----------+-------------------+\n",
      "\n"
     ]
    }
   ],
   "source": [
    "dfs4.show()"
   ]
  },
  {
   "cell_type": "code",
   "execution_count": 47,
   "id": "98709cc5",
   "metadata": {},
   "outputs": [],
   "source": [
    "#Rename"
   ]
  },
  {
   "cell_type": "code",
   "execution_count": 49,
   "id": "fc3f425b",
   "metadata": {},
   "outputs": [
    {
     "name": "stdout",
     "output_type": "stream",
     "text": [
      "+--------------+-----------+--------------+----------+-------------------+\n",
      "|         Email|        Sub|     Mail_Body|      Date|               time|\n",
      "+--------------+-----------+--------------+----------+-------------------+\n",
      "| abc@gmail.com|Book Return|return of book|19/12/2022|2022-12-23 15:24:00|\n",
      "|clcm@gmail.com|Book Refund|refund of Book|19/12/2022|2022-12-23 15:25:00|\n",
      "+--------------+-----------+--------------+----------+-------------------+\n",
      "\n"
     ]
    }
   ],
   "source": [
    "dfs4.withColumnRenamed('body','Mail_Body').show()"
   ]
  },
  {
   "cell_type": "code",
   "execution_count": 57,
   "id": "f3a4930a",
   "metadata": {},
   "outputs": [
    {
     "name": "stdout",
     "output_type": "stream",
     "text": [
      " assgnmnt24-10.ipynb\t\t      dstest.csv      lmnm\r\n",
      " assignment_python.csv\t\t      eml_ato.ipynb   sample4.csv\r\n",
      "'Assignment - Python - Final.ipynb'   file.csv\t      spark.ipynb\r\n",
      " auto.ipynb\t\t\t      file.xlsx       testfile.ipynb\r\n"
     ]
    }
   ],
   "source": [
    "!ls"
   ]
  },
  {
   "cell_type": "code",
   "execution_count": 6,
   "id": "b296b28d",
   "metadata": {},
   "outputs": [
    {
     "name": "stderr",
     "output_type": "stream",
     "text": [
      "                                                                                \r"
     ]
    }
   ],
   "source": [
    "x=spark.read.csv('dstest.csv',header=True,inferSchema=True)"
   ]
  },
  {
   "cell_type": "code",
   "execution_count": 7,
   "id": "c7bb8eec",
   "metadata": {},
   "outputs": [
    {
     "name": "stdout",
     "output_type": "stream",
     "text": [
      "+----------+------+--------------------+-------+--------------------+-------------------+-------------------+\n",
      "|IDCUSTOMER|GENDER|                CITY|COUNTRY|FIRST_DEPOSIT_AMOUNT|  REGISTRATION_DATE|       DEPOSIT_DATE|\n",
      "+----------+------+--------------------+-------+--------------------+-------------------+-------------------+\n",
      "|   5075649|     M|              ankara| Turkey|               100.0|2009-01-10 00:00:00|2022-06-05 00:00:00|\n",
      "|   5176235|     M|              elazığ| Turkey|               400.0|2009-03-01 00:00:00|2022-02-11 00:00:00|\n",
      "|   5249140|     M|               izmir| Turkey|               200.0|2009-04-06 00:00:00|2022-05-02 00:00:00|\n",
      "|   5300998|     M|             Üsküdar| Turkey|               100.0|2009-05-02 00:00:00|2022-02-11 00:00:00|\n",
      "|   5371454|     M|             sakarya| Turkey|               880.0|2009-06-07 00:00:00|2022-05-29 00:00:00|\n",
      "|   5636637|     M|              ANKARA| Turkey|               100.0|2009-10-29 00:00:00|2022-03-15 00:00:00|\n",
      "|   5670349|     M|       hatay antakya| Turkey|                50.0|2009-11-10 00:00:00|2022-03-16 00:00:00|\n",
      "|   5731391|     M|            İstanbul| Turkey|                50.0|2009-12-03 00:00:00|2022-03-08 00:00:00|\n",
      "|   5769004|     M|             antalya| Turkey|               100.0|2009-12-17 00:00:00|2022-07-07 00:00:00|\n",
      "|   5840612|     M|      tekirdağ çorlu| Turkey|                50.0|2010-01-17 00:00:00|2022-07-06 00:00:00|\n",
      "|   5871190|     M|    istanbul kadiköy| Turkey|                50.0|2010-01-29 00:00:00|2022-03-18 00:00:00|\n",
      "|   5928887|     M|               milas| Turkey|               400.0|2010-02-20 00:00:00|2022-02-13 00:00:00|\n",
      "|   5956458|     M|           eskısehır| Turkey|                50.0|2010-03-05 00:00:00|2022-02-17 00:00:00|\n",
      "|   6089455|     M|       Kahramanmaraş| Turkey|                59.0|2010-05-20 00:00:00|2022-04-10 00:00:00|\n",
      "|   6308160|     M|KIRKLARELİ LULEBU...| Turkey|                50.0|2010-09-01 00:00:00|2022-02-01 00:00:00|\n",
      "|   6312643|     M|               Hatay| Turkey|              1500.0|2010-09-04 00:00:00|2022-03-17 00:00:00|\n",
      "|   6314492|     M|              Mersin| Turkey|               100.0|2010-09-05 00:00:00|2022-06-11 00:00:00|\n",
      "|   6461258|     M|              yalova| Turkey|               250.0|2010-11-08 00:00:00|2022-04-09 00:00:00|\n",
      "|   6534795|     M|      SAKARYA AKYAZI| Turkey|               100.0|2010-12-15 00:00:00|2022-04-24 00:00:00|\n",
      "|   6539001|     M|     İstinye Sarıyer| Turkey|                70.0|2010-12-18 00:00:00|2022-02-11 00:00:00|\n",
      "+----------+------+--------------------+-------+--------------------+-------------------+-------------------+\n",
      "only showing top 20 rows\n",
      "\n"
     ]
    }
   ],
   "source": [
    "x.show()"
   ]
  },
  {
   "cell_type": "code",
   "execution_count": 122,
   "id": "99681def",
   "metadata": {},
   "outputs": [
    {
     "data": {
      "text/plain": [
       "[('IDCUSTOMER', 'int'),\n",
       " ('GENDER', 'string'),\n",
       " ('CITY', 'string'),\n",
       " ('COUNTRY', 'string'),\n",
       " ('FIRST_DEPOSIT_AMOUNT', 'double'),\n",
       " ('REGISTRATION_DATE', 'timestamp'),\n",
       " ('DEPOSIT_DATE', 'timestamp')]"
      ]
     },
     "execution_count": 122,
     "metadata": {},
     "output_type": "execute_result"
    }
   ],
   "source": [
    "x.dtypes"
   ]
  },
  {
   "cell_type": "code",
   "execution_count": null,
   "id": "939125e0",
   "metadata": {},
   "outputs": [],
   "source": [
    "# drop values, how = any or all\n",
    "# any - if any column has null that row will be dropped\n",
    "# all - all column should be null for row to be dropped\n",
    "# threshold - what values you give, ex- 2, then if 2 columns hv null then column drop"
   ]
  },
  {
   "cell_type": "code",
   "execution_count": 8,
   "id": "ab7d7428",
   "metadata": {},
   "outputs": [
    {
     "name": "stdout",
     "output_type": "stream",
     "text": [
      "+----------+------+--------------------+-------+--------------------+-------------------+-------------------+\n",
      "|IDCUSTOMER|GENDER|                CITY|COUNTRY|FIRST_DEPOSIT_AMOUNT|  REGISTRATION_DATE|       DEPOSIT_DATE|\n",
      "+----------+------+--------------------+-------+--------------------+-------------------+-------------------+\n",
      "|   5075649|     M|              ankara| Turkey|               100.0|2009-01-10 00:00:00|2022-06-05 00:00:00|\n",
      "|   5176235|     M|              elazığ| Turkey|               400.0|2009-03-01 00:00:00|2022-02-11 00:00:00|\n",
      "|   5249140|     M|               izmir| Turkey|               200.0|2009-04-06 00:00:00|2022-05-02 00:00:00|\n",
      "|   5300998|     M|             Üsküdar| Turkey|               100.0|2009-05-02 00:00:00|2022-02-11 00:00:00|\n",
      "|   5371454|     M|             sakarya| Turkey|               880.0|2009-06-07 00:00:00|2022-05-29 00:00:00|\n",
      "|   5636637|     M|              ANKARA| Turkey|               100.0|2009-10-29 00:00:00|2022-03-15 00:00:00|\n",
      "|   5670349|     M|       hatay antakya| Turkey|                50.0|2009-11-10 00:00:00|2022-03-16 00:00:00|\n",
      "|   5731391|     M|            İstanbul| Turkey|                50.0|2009-12-03 00:00:00|2022-03-08 00:00:00|\n",
      "|   5769004|     M|             antalya| Turkey|               100.0|2009-12-17 00:00:00|2022-07-07 00:00:00|\n",
      "|   5840612|     M|      tekirdağ çorlu| Turkey|                50.0|2010-01-17 00:00:00|2022-07-06 00:00:00|\n",
      "|   5871190|     M|    istanbul kadiköy| Turkey|                50.0|2010-01-29 00:00:00|2022-03-18 00:00:00|\n",
      "|   5928887|     M|               milas| Turkey|               400.0|2010-02-20 00:00:00|2022-02-13 00:00:00|\n",
      "|   5956458|     M|           eskısehır| Turkey|                50.0|2010-03-05 00:00:00|2022-02-17 00:00:00|\n",
      "|   6089455|     M|       Kahramanmaraş| Turkey|                59.0|2010-05-20 00:00:00|2022-04-10 00:00:00|\n",
      "|   6308160|     M|KIRKLARELİ LULEBU...| Turkey|                50.0|2010-09-01 00:00:00|2022-02-01 00:00:00|\n",
      "|   6312643|     M|               Hatay| Turkey|              1500.0|2010-09-04 00:00:00|2022-03-17 00:00:00|\n",
      "|   6314492|     M|              Mersin| Turkey|               100.0|2010-09-05 00:00:00|2022-06-11 00:00:00|\n",
      "|   6461258|     M|              yalova| Turkey|               250.0|2010-11-08 00:00:00|2022-04-09 00:00:00|\n",
      "|   6534795|     M|      SAKARYA AKYAZI| Turkey|               100.0|2010-12-15 00:00:00|2022-04-24 00:00:00|\n",
      "|   6539001|     M|     İstinye Sarıyer| Turkey|                70.0|2010-12-18 00:00:00|2022-02-11 00:00:00|\n",
      "+----------+------+--------------------+-------+--------------------+-------------------+-------------------+\n",
      "only showing top 20 rows\n",
      "\n"
     ]
    }
   ],
   "source": [
    "x.na.drop(how='all').show()"
   ]
  },
  {
   "cell_type": "code",
   "execution_count": 9,
   "id": "90056021",
   "metadata": {},
   "outputs": [
    {
     "name": "stdout",
     "output_type": "stream",
     "text": [
      "+----------+------+--------------------+-------+--------------------+-------------------+-------------------+\n",
      "|IDCUSTOMER|GENDER|                CITY|COUNTRY|FIRST_DEPOSIT_AMOUNT|  REGISTRATION_DATE|       DEPOSIT_DATE|\n",
      "+----------+------+--------------------+-------+--------------------+-------------------+-------------------+\n",
      "|   5075649|     M|              ankara| Turkey|               100.0|2009-01-10 00:00:00|2022-06-05 00:00:00|\n",
      "|   5176235|     M|              elazığ| Turkey|               400.0|2009-03-01 00:00:00|2022-02-11 00:00:00|\n",
      "|   5249140|     M|               izmir| Turkey|               200.0|2009-04-06 00:00:00|2022-05-02 00:00:00|\n",
      "|   5300998|     M|             Üsküdar| Turkey|               100.0|2009-05-02 00:00:00|2022-02-11 00:00:00|\n",
      "|   5371454|     M|             sakarya| Turkey|               880.0|2009-06-07 00:00:00|2022-05-29 00:00:00|\n",
      "|   5636637|     M|              ANKARA| Turkey|               100.0|2009-10-29 00:00:00|2022-03-15 00:00:00|\n",
      "|   5670349|     M|       hatay antakya| Turkey|                50.0|2009-11-10 00:00:00|2022-03-16 00:00:00|\n",
      "|   5731391|     M|            İstanbul| Turkey|                50.0|2009-12-03 00:00:00|2022-03-08 00:00:00|\n",
      "|   5769004|     M|             antalya| Turkey|               100.0|2009-12-17 00:00:00|2022-07-07 00:00:00|\n",
      "|   5840612|     M|      tekirdağ çorlu| Turkey|                50.0|2010-01-17 00:00:00|2022-07-06 00:00:00|\n",
      "|   5871190|     M|    istanbul kadiköy| Turkey|                50.0|2010-01-29 00:00:00|2022-03-18 00:00:00|\n",
      "|   5928887|     M|               milas| Turkey|               400.0|2010-02-20 00:00:00|2022-02-13 00:00:00|\n",
      "|   5956458|     M|           eskısehır| Turkey|                50.0|2010-03-05 00:00:00|2022-02-17 00:00:00|\n",
      "|   6089455|     M|       Kahramanmaraş| Turkey|                59.0|2010-05-20 00:00:00|2022-04-10 00:00:00|\n",
      "|   6308160|     M|KIRKLARELİ LULEBU...| Turkey|                50.0|2010-09-01 00:00:00|2022-02-01 00:00:00|\n",
      "|   6312643|     M|               Hatay| Turkey|              1500.0|2010-09-04 00:00:00|2022-03-17 00:00:00|\n",
      "|   6314492|     M|              Mersin| Turkey|               100.0|2010-09-05 00:00:00|2022-06-11 00:00:00|\n",
      "|   6461258|     M|              yalova| Turkey|               250.0|2010-11-08 00:00:00|2022-04-09 00:00:00|\n",
      "|   6534795|     M|      SAKARYA AKYAZI| Turkey|               100.0|2010-12-15 00:00:00|2022-04-24 00:00:00|\n",
      "|   6539001|     M|     İstinye Sarıyer| Turkey|                70.0|2010-12-18 00:00:00|2022-02-11 00:00:00|\n",
      "+----------+------+--------------------+-------+--------------------+-------------------+-------------------+\n",
      "only showing top 20 rows\n",
      "\n"
     ]
    }
   ],
   "source": [
    "x.na.drop(how='any',thresh=3).show()"
   ]
  },
  {
   "cell_type": "code",
   "execution_count": 64,
   "id": "da0e2048",
   "metadata": {},
   "outputs": [],
   "source": [
    "#subset- specifies column for whic if null value is there that row drops"
   ]
  },
  {
   "cell_type": "code",
   "execution_count": 65,
   "id": "51560ea1",
   "metadata": {},
   "outputs": [
    {
     "name": "stdout",
     "output_type": "stream",
     "text": [
      "+----------+------+--------------------+-------+--------------------+-------------------+-------------------+\n",
      "|IDCUSTOMER|GENDER|                CITY|COUNTRY|FIRST_DEPOSIT_AMOUNT|  REGISTRATION_DATE|       DEPOSIT_DATE|\n",
      "+----------+------+--------------------+-------+--------------------+-------------------+-------------------+\n",
      "|   5075649|     M|              ankara| Turkey|               100.0|2009-01-10 00:00:00|2022-06-05 00:00:00|\n",
      "|   5176235|     M|              elazığ| Turkey|               400.0|2009-03-01 00:00:00|2022-02-11 00:00:00|\n",
      "|   5249140|     M|               izmir| Turkey|               200.0|2009-04-06 00:00:00|2022-05-02 00:00:00|\n",
      "|   5300998|     M|             Üsküdar| Turkey|               100.0|2009-05-02 00:00:00|2022-02-11 00:00:00|\n",
      "|   5371454|     M|             sakarya| Turkey|               880.0|2009-06-07 00:00:00|2022-05-29 00:00:00|\n",
      "|   5636637|     M|              ANKARA| Turkey|               100.0|2009-10-29 00:00:00|2022-03-15 00:00:00|\n",
      "|   5670349|     M|       hatay antakya| Turkey|                50.0|2009-11-10 00:00:00|2022-03-16 00:00:00|\n",
      "|   5731391|     M|            İstanbul| Turkey|                50.0|2009-12-03 00:00:00|2022-03-08 00:00:00|\n",
      "|   5769004|     M|             antalya| Turkey|               100.0|2009-12-17 00:00:00|2022-07-07 00:00:00|\n",
      "|   5840612|     M|      tekirdağ çorlu| Turkey|                50.0|2010-01-17 00:00:00|2022-07-06 00:00:00|\n",
      "|   5871190|     M|    istanbul kadiköy| Turkey|                50.0|2010-01-29 00:00:00|2022-03-18 00:00:00|\n",
      "|   5928887|     M|               milas| Turkey|               400.0|2010-02-20 00:00:00|2022-02-13 00:00:00|\n",
      "|   5956458|     M|           eskısehır| Turkey|                50.0|2010-03-05 00:00:00|2022-02-17 00:00:00|\n",
      "|   6089455|     M|       Kahramanmaraş| Turkey|                59.0|2010-05-20 00:00:00|2022-04-10 00:00:00|\n",
      "|   6308160|     M|KIRKLARELİ LULEBU...| Turkey|                50.0|2010-09-01 00:00:00|2022-02-01 00:00:00|\n",
      "|   6312643|     M|               Hatay| Turkey|              1500.0|2010-09-04 00:00:00|2022-03-17 00:00:00|\n",
      "|   6314492|     M|              Mersin| Turkey|               100.0|2010-09-05 00:00:00|2022-06-11 00:00:00|\n",
      "|   6461258|     M|              yalova| Turkey|               250.0|2010-11-08 00:00:00|2022-04-09 00:00:00|\n",
      "|   6534795|     M|      SAKARYA AKYAZI| Turkey|               100.0|2010-12-15 00:00:00|2022-04-24 00:00:00|\n",
      "|   6539001|     M|     İstinye Sarıyer| Turkey|                70.0|2010-12-18 00:00:00|2022-02-11 00:00:00|\n",
      "+----------+------+--------------------+-------+--------------------+-------------------+-------------------+\n",
      "only showing top 20 rows\n",
      "\n"
     ]
    }
   ],
   "source": [
    "x.na.drop(how='any',subset=['CITY']).show()"
   ]
  },
  {
   "cell_type": "code",
   "execution_count": 70,
   "id": "3fb0bad4",
   "metadata": {},
   "outputs": [
    {
     "name": "stdout",
     "output_type": "stream",
     "text": [
      "+----------+------+-------+-------+--------------------+-----------------+------------+\n",
      "|IDCUSTOMER|GENDER|   CITY|COUNTRY|FIRST_DEPOSIT_AMOUNT|REGISTRATION_DATE|DEPOSIT_DATE|\n",
      "+----------+------+-------+-------+--------------------+-----------------+------------+\n",
      "|   5075649|     M| ankara| Turkey|               100.0|       2009-01...|  2022-06...|\n",
      "|   5176235|     M| elazığ| Turkey|               400.0|       2009-03...|  2022-02...|\n",
      "|   5249140|     M|  izmir| Turkey|               200.0|       2009-04...|  2022-05...|\n",
      "|   5300998|     M|Üsküdar| Turkey|               100.0|       2009-05...|  2022-02...|\n",
      "|   5371454|     M|sakarya| Turkey|               880.0|       2009-06...|  2022-05...|\n",
      "+----------+------+-------+-------+--------------------+-----------------+------------+\n",
      "only showing top 5 rows\n",
      "\n"
     ]
    }
   ],
   "source": [
    "x.na.fill('bhaijan').show(5)"
   ]
  },
  {
   "cell_type": "code",
   "execution_count": 71,
   "id": "54595654",
   "metadata": {},
   "outputs": [],
   "source": [
    "from pyspark.ml.feature import Imputer"
   ]
  },
  {
   "cell_type": "code",
   "execution_count": 80,
   "id": "b97f21ee",
   "metadata": {},
   "outputs": [],
   "source": [
    "imputer = Imputer(inputCols=['FIRST_DEPOSIT_AMOUNT'],\n",
    "                  outputCols=[f\"{c}_imputed\" for c in ['FIRST_DEPOSIT_AMOUNT']]).setStrategy(\"mean\")"
   ]
  },
  {
   "cell_type": "code",
   "execution_count": 81,
   "id": "1dee39e9",
   "metadata": {},
   "outputs": [
    {
     "name": "stdout",
     "output_type": "stream",
     "text": [
      "+----------+------+--------------------+-------+--------------------+-------------------+-------------------+----------------------------+\n",
      "|IDCUSTOMER|GENDER|                CITY|COUNTRY|FIRST_DEPOSIT_AMOUNT|  REGISTRATION_DATE|       DEPOSIT_DATE|FIRST_DEPOSIT_AMOUNT_imputed|\n",
      "+----------+------+--------------------+-------+--------------------+-------------------+-------------------+----------------------------+\n",
      "|   5075649|     M|              ankara| Turkey|               100.0|2009-01-10 00:00:00|2022-06-05 00:00:00|                       100.0|\n",
      "|   5176235|     M|              elazığ| Turkey|               400.0|2009-03-01 00:00:00|2022-02-11 00:00:00|                       400.0|\n",
      "|   5249140|     M|               izmir| Turkey|               200.0|2009-04-06 00:00:00|2022-05-02 00:00:00|                       200.0|\n",
      "|   5300998|     M|             Üsküdar| Turkey|               100.0|2009-05-02 00:00:00|2022-02-11 00:00:00|                       100.0|\n",
      "|   5371454|     M|             sakarya| Turkey|               880.0|2009-06-07 00:00:00|2022-05-29 00:00:00|                       880.0|\n",
      "|   5636637|     M|              ANKARA| Turkey|               100.0|2009-10-29 00:00:00|2022-03-15 00:00:00|                       100.0|\n",
      "|   5670349|     M|       hatay antakya| Turkey|                50.0|2009-11-10 00:00:00|2022-03-16 00:00:00|                        50.0|\n",
      "|   5731391|     M|            İstanbul| Turkey|                50.0|2009-12-03 00:00:00|2022-03-08 00:00:00|                        50.0|\n",
      "|   5769004|     M|             antalya| Turkey|               100.0|2009-12-17 00:00:00|2022-07-07 00:00:00|                       100.0|\n",
      "|   5840612|     M|      tekirdağ çorlu| Turkey|                50.0|2010-01-17 00:00:00|2022-07-06 00:00:00|                        50.0|\n",
      "|   5871190|     M|    istanbul kadiköy| Turkey|                50.0|2010-01-29 00:00:00|2022-03-18 00:00:00|                        50.0|\n",
      "|   5928887|     M|               milas| Turkey|               400.0|2010-02-20 00:00:00|2022-02-13 00:00:00|                       400.0|\n",
      "|   5956458|     M|           eskısehır| Turkey|                50.0|2010-03-05 00:00:00|2022-02-17 00:00:00|                        50.0|\n",
      "|   6089455|     M|       Kahramanmaraş| Turkey|                59.0|2010-05-20 00:00:00|2022-04-10 00:00:00|                        59.0|\n",
      "|   6308160|     M|KIRKLARELİ LULEBU...| Turkey|                50.0|2010-09-01 00:00:00|2022-02-01 00:00:00|                        50.0|\n",
      "|   6312643|     M|               Hatay| Turkey|              1500.0|2010-09-04 00:00:00|2022-03-17 00:00:00|                      1500.0|\n",
      "|   6314492|     M|              Mersin| Turkey|               100.0|2010-09-05 00:00:00|2022-06-11 00:00:00|                       100.0|\n",
      "|   6461258|     M|              yalova| Turkey|               250.0|2010-11-08 00:00:00|2022-04-09 00:00:00|                       250.0|\n",
      "|   6534795|     M|      SAKARYA AKYAZI| Turkey|               100.0|2010-12-15 00:00:00|2022-04-24 00:00:00|                       100.0|\n",
      "|   6539001|     M|     İstinye Sarıyer| Turkey|                70.0|2010-12-18 00:00:00|2022-02-11 00:00:00|                        70.0|\n",
      "+----------+------+--------------------+-------+--------------------+-------------------+-------------------+----------------------------+\n",
      "only showing top 20 rows\n",
      "\n"
     ]
    }
   ],
   "source": [
    "imputer.fit(x).transform(x).show()"
   ]
  },
  {
   "cell_type": "code",
   "execution_count": 83,
   "id": "0d2aa706",
   "metadata": {},
   "outputs": [
    {
     "name": "stdout",
     "output_type": "stream",
     "text": [
      "+----------+------+\n",
      "|IDCUSTOMER|GENDER|\n",
      "+----------+------+\n",
      "|   5075649|     M|\n",
      "|   5176235|     M|\n",
      "|   5249140|     M|\n",
      "|   5300998|     M|\n",
      "|   5371454|     M|\n",
      "|   5636637|     M|\n",
      "|   5670349|     M|\n",
      "|   5731391|     M|\n",
      "|   5769004|     M|\n",
      "|   5840612|     M|\n",
      "|   5871190|     M|\n",
      "|   5928887|     M|\n",
      "|   5956458|     M|\n",
      "|   6089455|     M|\n",
      "|   6308160|     M|\n",
      "|   6312643|     M|\n",
      "|   6314492|     M|\n",
      "|   6461258|     M|\n",
      "|   6534795|     M|\n",
      "|   6539001|     M|\n",
      "+----------+------+\n",
      "only showing top 20 rows\n",
      "\n"
     ]
    }
   ],
   "source": [
    "x[['IDCUSTOMER','GENDER']].show()"
   ]
  },
  {
   "cell_type": "code",
   "execution_count": 94,
   "id": "75cc50ff",
   "metadata": {},
   "outputs": [
    {
     "name": "stdout",
     "output_type": "stream",
     "text": [
      "+----------+------+----------------+-------+--------------------+-------------------+-------------------+\n",
      "|IDCUSTOMER|GENDER|            CITY|COUNTRY|FIRST_DEPOSIT_AMOUNT|  REGISTRATION_DATE|       DEPOSIT_DATE|\n",
      "+----------+------+----------------+-------+--------------------+-------------------+-------------------+\n",
      "|   5075649|     M|          ankara| Turkey|               100.0|2009-01-10 00:00:00|2022-06-05 00:00:00|\n",
      "|   5176235|     M|          elazığ| Turkey|               400.0|2009-03-01 00:00:00|2022-02-11 00:00:00|\n",
      "|   5249140|     M|           izmir| Turkey|               200.0|2009-04-06 00:00:00|2022-05-02 00:00:00|\n",
      "|   5300998|     M|         Üsküdar| Turkey|               100.0|2009-05-02 00:00:00|2022-02-11 00:00:00|\n",
      "|   5371454|     M|         sakarya| Turkey|               880.0|2009-06-07 00:00:00|2022-05-29 00:00:00|\n",
      "|   5636637|     M|          ANKARA| Turkey|               100.0|2009-10-29 00:00:00|2022-03-15 00:00:00|\n",
      "|   5670349|     M|   hatay antakya| Turkey|                50.0|2009-11-10 00:00:00|2022-03-16 00:00:00|\n",
      "|   5731391|     M|        İstanbul| Turkey|                50.0|2009-12-03 00:00:00|2022-03-08 00:00:00|\n",
      "|   5769004|     M|         antalya| Turkey|               100.0|2009-12-17 00:00:00|2022-07-07 00:00:00|\n",
      "|   5840612|     M|  tekirdağ çorlu| Turkey|                50.0|2010-01-17 00:00:00|2022-07-06 00:00:00|\n",
      "|   5871190|     M|istanbul kadiköy| Turkey|                50.0|2010-01-29 00:00:00|2022-03-18 00:00:00|\n",
      "|   5928887|     M|           milas| Turkey|               400.0|2010-02-20 00:00:00|2022-02-13 00:00:00|\n",
      "|   5956458|     M|       eskısehır| Turkey|                50.0|2010-03-05 00:00:00|2022-02-17 00:00:00|\n",
      "|   6089455|     M|   Kahramanmaraş| Turkey|                59.0|2010-05-20 00:00:00|2022-04-10 00:00:00|\n",
      "+----------+------+----------------+-------+--------------------+-------------------+-------------------+\n",
      "\n"
     ]
    }
   ],
   "source": [
    "x[x['IDCUSTOMER']<=6089455].show()"
   ]
  },
  {
   "cell_type": "code",
   "execution_count": 111,
   "id": "021405b1",
   "metadata": {},
   "outputs": [
    {
     "name": "stdout",
     "output_type": "stream",
     "text": [
      "+----------+------+\n",
      "|IDCUSTOMER|GENDER|\n",
      "+----------+------+\n",
      "|   5075649|     M|\n",
      "|   5176235|     M|\n",
      "|   5249140|     M|\n",
      "|   5300998|     M|\n",
      "|   5371454|     M|\n",
      "|   5636637|     M|\n",
      "|   5670349|     M|\n",
      "|   5731391|     M|\n",
      "|   5769004|     M|\n",
      "|   5840612|     M|\n",
      "|   5871190|     M|\n",
      "|   5928887|     M|\n",
      "|   5956458|     M|\n",
      "|   6089455|     M|\n",
      "+----------+------+\n",
      "\n"
     ]
    }
   ],
   "source": [
    "x[['IDCUSTOMER','GENDER']][x['IDCUSTOMER']<=6089455].show() #doesnt work if just one column is called"
   ]
  },
  {
   "cell_type": "code",
   "execution_count": 117,
   "id": "fd0b0577",
   "metadata": {},
   "outputs": [
    {
     "name": "stdout",
     "output_type": "stream",
     "text": [
      "+----------+------+\n",
      "|IDCUSTOMER|GENDER|\n",
      "+----------+------+\n",
      "|   5075649|     M|\n",
      "|   5176235|     M|\n",
      "|   5249140|     M|\n",
      "|   5300998|     M|\n",
      "|   5371454|     M|\n",
      "|   5636637|     M|\n",
      "|   5670349|     M|\n",
      "|   5731391|     M|\n",
      "|   5769004|     M|\n",
      "|   5840612|     M|\n",
      "|   5871190|     M|\n",
      "|   5928887|     M|\n",
      "|   5956458|     M|\n",
      "|   6089455|     M|\n",
      "+----------+------+\n",
      "\n"
     ]
    }
   ],
   "source": [
    "x[['IDCUSTOMER','GENDER']][x['IDCUSTOMER']<=6089455].show()"
   ]
  },
  {
   "cell_type": "code",
   "execution_count": 95,
   "id": "593e2ffb",
   "metadata": {},
   "outputs": [
    {
     "name": "stdout",
     "output_type": "stream",
     "text": [
      "+----------+--------------------+\n",
      "|IDCUSTOMER|                CITY|\n",
      "+----------+--------------------+\n",
      "|   5176235|              elazığ|\n",
      "|   5249140|               izmir|\n",
      "|   5371454|             sakarya|\n",
      "|   5928887|               milas|\n",
      "|   6312643|               Hatay|\n",
      "|   6461258|              yalova|\n",
      "|   6599145|               hatay|\n",
      "|   6661675|      istanbul fatih|\n",
      "|   8191413|              MERKEZ|\n",
      "|   8197046|            bayraklı|\n",
      "|   8200942|            istanbul|\n",
      "|   6848572|        lara/antalya|\n",
      "|   6934376|    istanbul maltepe|\n",
      "|   8220454|            yıldırım|\n",
      "|   7023006|                 van|\n",
      "|   7059192|              EDİRNE|\n",
      "|   7070064|   beşiktaş/istanbul|\n",
      "|   7110950|            alsancak|\n",
      "|   7115164|      konya selcuklu|\n",
      "|   7134049|istanbul / zeytin...|\n",
      "+----------+--------------------+\n",
      "only showing top 20 rows\n",
      "\n"
     ]
    }
   ],
   "source": [
    "x.filter(\"FIRST_DEPOSIT_AMOUNT>100\").select(['IDCUSTOMER','CITY']).show()"
   ]
  },
  {
   "cell_type": "code",
   "execution_count": 118,
   "id": "6f81b1a2",
   "metadata": {},
   "outputs": [
    {
     "name": "stdout",
     "output_type": "stream",
     "text": [
      "+----------+------+\n",
      "|IDCUSTOMER|GENDER|\n",
      "+----------+------+\n",
      "|   5731391|     M|\n",
      "+----------+------+\n",
      "\n"
     ]
    }
   ],
   "source": [
    "x[['IDCUSTOMER','GENDER']][x['IDCUSTOMER']<=6089455][x['CITY']=='İstanbul'].show()"
   ]
  },
  {
   "cell_type": "code",
   "execution_count": 13,
   "id": "1d3de4e4",
   "metadata": {},
   "outputs": [
    {
     "name": "stdout",
     "output_type": "stream",
     "text": [
      "+----------+--------------------+\n",
      "|IDCUSTOMER|                CITY|\n",
      "+----------+--------------------+\n",
      "|   5176235|              elazığ|\n",
      "|   5249140|               izmir|\n",
      "|   5371454|             sakarya|\n",
      "|   5928887|               milas|\n",
      "|   6312643|               Hatay|\n",
      "|   6461258|              yalova|\n",
      "|   6599145|               hatay|\n",
      "|   6661675|      istanbul fatih|\n",
      "|   8191413|              MERKEZ|\n",
      "|   8197046|            bayraklı|\n",
      "|   8200942|            istanbul|\n",
      "|   6848572|        lara/antalya|\n",
      "|   6934376|    istanbul maltepe|\n",
      "|   8220454|            yıldırım|\n",
      "|   7023006|                 van|\n",
      "|   7059192|              EDİRNE|\n",
      "|   7070064|   beşiktaş/istanbul|\n",
      "|   7110950|            alsancak|\n",
      "|   7115164|      konya selcuklu|\n",
      "|   7134049|istanbul / zeytin...|\n",
      "+----------+--------------------+\n",
      "only showing top 20 rows\n",
      "\n"
     ]
    }
   ],
   "source": [
    "x.filter(x[\"FIRST_DEPOSIT_AMOUNT\"]>100).select(['IDCUSTOMER','CITY']).show()"
   ]
  },
  {
   "cell_type": "code",
   "execution_count": 14,
   "id": "e70008ae",
   "metadata": {},
   "outputs": [
    {
     "name": "stdout",
     "output_type": "stream",
     "text": [
      "+----------+--------------------+\n",
      "|IDCUSTOMER|                CITY|\n",
      "+----------+--------------------+\n",
      "|   5075649|              ankara|\n",
      "|   5300998|             Üsküdar|\n",
      "|   5636637|              ANKARA|\n",
      "|   5670349|       hatay antakya|\n",
      "|   5731391|            İstanbul|\n",
      "|   5769004|             antalya|\n",
      "|   5840612|      tekirdağ çorlu|\n",
      "|   5871190|    istanbul kadiköy|\n",
      "|   5956458|           eskısehır|\n",
      "|   6089455|       Kahramanmaraş|\n",
      "|   6308160|KIRKLARELİ LULEBU...|\n",
      "|   6314492|              Mersin|\n",
      "|   6534795|      SAKARYA AKYAZI|\n",
      "|   6539001|     İstinye Sarıyer|\n",
      "|   6555481|        BÜYÜKÇEKMECE|\n",
      "|   6612345|            İSTANBUL|\n",
      "|   6656175|               konya|\n",
      "|   6685691|              Ankara|\n",
      "|   8203754|             kayseri|\n",
      "|   8208829|              merkez|\n",
      "+----------+--------------------+\n",
      "only showing top 20 rows\n",
      "\n"
     ]
    }
   ],
   "source": [
    "x.filter(~(x['FIRST_DEPOSIT_AMOUNT']>100)).select(['IDCUSTOMER','CITY']).show()  # ~ is the inverse"
   ]
  },
  {
   "cell_type": "code",
   "execution_count": 15,
   "id": "337735d5",
   "metadata": {},
   "outputs": [
    {
     "name": "stdout",
     "output_type": "stream",
     "text": [
      "+----------+--------+\n",
      "|IDCUSTOMER|    CITY|\n",
      "+----------+--------+\n",
      "|   8900227|İstanbul|\n",
      "|   9231918|İstanbul|\n",
      "|   9679844|İstanbul|\n",
      "|  10791031|İstanbul|\n",
      "|  10895361|İstanbul|\n",
      "|  11365602|İstanbul|\n",
      "|  11383969|İstanbul|\n",
      "|  11413367|İstanbul|\n",
      "|  11432374|İstanbul|\n",
      "|  11504490|İstanbul|\n",
      "|  11686919|İstanbul|\n",
      "|  12101310|İstanbul|\n",
      "|  12211201|İstanbul|\n",
      "|  12478942|İstanbul|\n",
      "|  12496641|İstanbul|\n",
      "|  12526253|İstanbul|\n",
      "|  12723907|İstanbul|\n",
      "|  12767022|İstanbul|\n",
      "|  12828794|İstanbul|\n",
      "|  12988189|İstanbul|\n",
      "+----------+--------+\n",
      "only showing top 20 rows\n",
      "\n"
     ]
    }
   ],
   "source": [
    "x.filter((x[\"FIRST_DEPOSIT_AMOUNT\"]>100) & (x[\"CITY\"]=='İstanbul')).select(['IDCUSTOMER','CITY']).show()"
   ]
  },
  {
   "cell_type": "code",
   "execution_count": 17,
   "id": "baf6b2c7",
   "metadata": {},
   "outputs": [
    {
     "name": "stdout",
     "output_type": "stream",
     "text": [
      "+-------------------+-----+\n",
      "|               CITY|count|\n",
      "+-------------------+-----+\n",
      "|    İstinye Sarıyer|    1|\n",
      "|      merkez/edirne|    1|\n",
      "|  muratpaşa/antalya|    1|\n",
      "|                van|    1|\n",
      "|        mecidiyeköy|    1|\n",
      "|         balıkkesir|    1|\n",
      "|            Isparta|   89|\n",
      "|     Gebze /KOCAELİ|    1|\n",
      "|BAŞAKŞEHİR/İSTANBUL|    1|\n",
      "|             Edirne|  136|\n",
      "|   Sisli / Istanbul|    1|\n",
      "|          Tekirdağ |    1|\n",
      "|        KONYA/ILGIN|    1|\n",
      "|     konya selcuklu|    1|\n",
      "|             Burdur|   20|\n",
      "|    malatya/temelli|    1|\n",
      "|    altındağ Ankara|    1|\n",
      "|                Muş|   33|\n",
      "|            kocaeli|    1|\n",
      "|              Adana|  676|\n",
      "+-------------------+-----+\n",
      "only showing top 20 rows\n",
      "\n"
     ]
    }
   ],
   "source": [
    "x.groupBy('CITY').count().show()"
   ]
  },
  {
   "cell_type": "code",
   "execution_count": 20,
   "id": "6bf8cfa1",
   "metadata": {},
   "outputs": [
    {
     "name": "stdout",
     "output_type": "stream",
     "text": [
      "+-------------------+---------------+-------------------------+\n",
      "|               CITY|max(IDCUSTOMER)|max(FIRST_DEPOSIT_AMOUNT)|\n",
      "+-------------------+---------------+-------------------------+\n",
      "|    İstinye Sarıyer|        6539001|                     70.0|\n",
      "|      merkez/edirne|        9409686|                     25.0|\n",
      "|  muratpaşa/antalya|        9813635|                    100.0|\n",
      "|                van|        7023006|                    150.0|\n",
      "|        mecidiyeköy|        8241324|                    100.0|\n",
      "|         balıkkesir|      146283811|                    200.0|\n",
      "|            Isparta|      147826391|                   8000.0|\n",
      "|     Gebze /KOCAELİ|      146980081|                    300.0|\n",
      "|BAŞAKŞEHİR/İSTANBUL|        7632441|                     80.0|\n",
      "|             Edirne|      147817571|                   5000.0|\n",
      "|   Sisli / Istanbul|        7879926|                    300.0|\n",
      "|          Tekirdağ |       10779101|                     30.0|\n",
      "|        KONYA/ILGIN|       14229503|                    100.0|\n",
      "|     konya selcuklu|        7115164|                    400.0|\n",
      "|             Burdur|      147776311|                   2000.0|\n",
      "|    malatya/temelli|        9589831|                    250.0|\n",
      "|    altındağ Ankara|      146291811|                    250.0|\n",
      "|                Muş|      147841421|                   1500.0|\n",
      "|            kocaeli|        9733678|                     20.0|\n",
      "|              Adana|      147846741|                 14572.49|\n",
      "+-------------------+---------------+-------------------------+\n",
      "only showing top 20 rows\n",
      "\n"
     ]
    },
    {
     "name": "stderr",
     "output_type": "stream",
     "text": [
      "\r",
      "[Stage 18:>                                                         (0 + 1) / 1]\r",
      "\r",
      "                                                                                \r"
     ]
    }
   ],
   "source": [
    "x.groupBy('CITY').max().show()         #sum(), mean(), max(), min()"
   ]
  },
  {
   "cell_type": "code",
   "execution_count": null,
   "id": "34505088",
   "metadata": {},
   "outputs": [],
   "source": []
  }
 ],
 "metadata": {
  "kernelspec": {
   "display_name": "Python 3 (ipykernel)",
   "language": "python",
   "name": "python3"
  },
  "language_info": {
   "codemirror_mode": {
    "name": "ipython",
    "version": 3
   },
   "file_extension": ".py",
   "mimetype": "text/x-python",
   "name": "python",
   "nbconvert_exporter": "python",
   "pygments_lexer": "ipython3",
   "version": "3.8.10"
  }
 },
 "nbformat": 4,
 "nbformat_minor": 5
}
