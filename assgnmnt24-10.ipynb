{
 "cells": [
  {
   "cell_type": "code",
   "execution_count": 123,
   "id": "42bf2e7e",
   "metadata": {},
   "outputs": [],
   "source": [
    "import pandas as pd\n",
    "import numpy as np"
   ]
  },
  {
   "cell_type": "code",
   "execution_count": 124,
   "id": "4c285901",
   "metadata": {},
   "outputs": [
    {
     "name": "stdout",
     "output_type": "stream",
     "text": [
      "/home/jupyter/Desktop/jupyter\r\n"
     ]
    }
   ],
   "source": [
    "!pwd"
   ]
  },
  {
   "cell_type": "code",
   "execution_count": 125,
   "id": "6a0571e3",
   "metadata": {},
   "outputs": [
    {
     "data": {
      "text/html": [
       "<div>\n",
       "<style scoped>\n",
       "    .dataframe tbody tr th:only-of-type {\n",
       "        vertical-align: middle;\n",
       "    }\n",
       "\n",
       "    .dataframe tbody tr th {\n",
       "        vertical-align: top;\n",
       "    }\n",
       "\n",
       "    .dataframe thead th {\n",
       "        text-align: right;\n",
       "    }\n",
       "</style>\n",
       "<table border=\"1\" class=\"dataframe\">\n",
       "  <thead>\n",
       "    <tr style=\"text-align: right;\">\n",
       "      <th></th>\n",
       "      <th>IDCUSTOMER</th>\n",
       "      <th>GENDER</th>\n",
       "      <th>CITY</th>\n",
       "      <th>COUNTRY</th>\n",
       "      <th>FIRST_DEPOSIT_AMOUNT</th>\n",
       "      <th>REGISTRATION_DATE</th>\n",
       "      <th>DEPOSIT_DATE</th>\n",
       "    </tr>\n",
       "  </thead>\n",
       "  <tbody>\n",
       "    <tr>\n",
       "      <th>0</th>\n",
       "      <td>5075649</td>\n",
       "      <td>M</td>\n",
       "      <td>ankara</td>\n",
       "      <td>Turkey</td>\n",
       "      <td>100.0</td>\n",
       "      <td>2009-01-10</td>\n",
       "      <td>2022-06-05</td>\n",
       "    </tr>\n",
       "    <tr>\n",
       "      <th>1</th>\n",
       "      <td>5176235</td>\n",
       "      <td>M</td>\n",
       "      <td>elazığ</td>\n",
       "      <td>Turkey</td>\n",
       "      <td>400.0</td>\n",
       "      <td>2009-03-01</td>\n",
       "      <td>2022-02-11</td>\n",
       "    </tr>\n",
       "    <tr>\n",
       "      <th>2</th>\n",
       "      <td>5249140</td>\n",
       "      <td>M</td>\n",
       "      <td>izmir</td>\n",
       "      <td>Turkey</td>\n",
       "      <td>200.0</td>\n",
       "      <td>2009-04-06</td>\n",
       "      <td>2022-05-02</td>\n",
       "    </tr>\n",
       "    <tr>\n",
       "      <th>3</th>\n",
       "      <td>5300998</td>\n",
       "      <td>M</td>\n",
       "      <td>Üsküdar</td>\n",
       "      <td>Turkey</td>\n",
       "      <td>100.0</td>\n",
       "      <td>2009-05-02</td>\n",
       "      <td>2022-02-11</td>\n",
       "    </tr>\n",
       "    <tr>\n",
       "      <th>4</th>\n",
       "      <td>5371454</td>\n",
       "      <td>M</td>\n",
       "      <td>sakarya</td>\n",
       "      <td>Turkey</td>\n",
       "      <td>880.0</td>\n",
       "      <td>2009-06-07</td>\n",
       "      <td>2022-05-29</td>\n",
       "    </tr>\n",
       "    <tr>\n",
       "      <th>...</th>\n",
       "      <td>...</td>\n",
       "      <td>...</td>\n",
       "      <td>...</td>\n",
       "      <td>...</td>\n",
       "      <td>...</td>\n",
       "      <td>...</td>\n",
       "      <td>...</td>\n",
       "    </tr>\n",
       "    <tr>\n",
       "      <th>22060</th>\n",
       "      <td>147844121</td>\n",
       "      <td>M</td>\n",
       "      <td>İstanbul</td>\n",
       "      <td>Turkey</td>\n",
       "      <td>50.0</td>\n",
       "      <td>2022-08-31</td>\n",
       "      <td>2022-08-31</td>\n",
       "    </tr>\n",
       "    <tr>\n",
       "      <th>22061</th>\n",
       "      <td>147844491</td>\n",
       "      <td>M</td>\n",
       "      <td>Eskişehir</td>\n",
       "      <td>Turkey</td>\n",
       "      <td>50.0</td>\n",
       "      <td>2022-08-31</td>\n",
       "      <td>2022-08-31</td>\n",
       "    </tr>\n",
       "    <tr>\n",
       "      <th>22062</th>\n",
       "      <td>147846481</td>\n",
       "      <td>M</td>\n",
       "      <td>Van</td>\n",
       "      <td>Turkey</td>\n",
       "      <td>100.0</td>\n",
       "      <td>2022-08-31</td>\n",
       "      <td>2022-08-31</td>\n",
       "    </tr>\n",
       "    <tr>\n",
       "      <th>22063</th>\n",
       "      <td>147843561</td>\n",
       "      <td>M</td>\n",
       "      <td>Antalya</td>\n",
       "      <td>Turkey</td>\n",
       "      <td>200.0</td>\n",
       "      <td>2022-08-31</td>\n",
       "      <td>2022-08-31</td>\n",
       "    </tr>\n",
       "    <tr>\n",
       "      <th>22064</th>\n",
       "      <td>147844971</td>\n",
       "      <td>M</td>\n",
       "      <td>İstanbul</td>\n",
       "      <td>Turkey</td>\n",
       "      <td>150.0</td>\n",
       "      <td>2022-08-31</td>\n",
       "      <td>2022-08-31</td>\n",
       "    </tr>\n",
       "  </tbody>\n",
       "</table>\n",
       "<p>22065 rows × 7 columns</p>\n",
       "</div>"
      ],
      "text/plain": [
       "       IDCUSTOMER GENDER       CITY COUNTRY  FIRST_DEPOSIT_AMOUNT  \\\n",
       "0         5075649      M     ankara  Turkey                 100.0   \n",
       "1         5176235      M     elazığ  Turkey                 400.0   \n",
       "2         5249140      M      izmir  Turkey                 200.0   \n",
       "3         5300998      M    Üsküdar  Turkey                 100.0   \n",
       "4         5371454      M    sakarya  Turkey                 880.0   \n",
       "...           ...    ...        ...     ...                   ...   \n",
       "22060   147844121      M   İstanbul  Turkey                  50.0   \n",
       "22061   147844491      M  Eskişehir  Turkey                  50.0   \n",
       "22062   147846481      M        Van  Turkey                 100.0   \n",
       "22063   147843561      M    Antalya  Turkey                 200.0   \n",
       "22064   147844971      M   İstanbul  Turkey                 150.0   \n",
       "\n",
       "      REGISTRATION_DATE DEPOSIT_DATE  \n",
       "0            2009-01-10   2022-06-05  \n",
       "1            2009-03-01   2022-02-11  \n",
       "2            2009-04-06   2022-05-02  \n",
       "3            2009-05-02   2022-02-11  \n",
       "4            2009-06-07   2022-05-29  \n",
       "...                 ...          ...  \n",
       "22060        2022-08-31   2022-08-31  \n",
       "22061        2022-08-31   2022-08-31  \n",
       "22062        2022-08-31   2022-08-31  \n",
       "22063        2022-08-31   2022-08-31  \n",
       "22064        2022-08-31   2022-08-31  \n",
       "\n",
       "[22065 rows x 7 columns]"
      ]
     },
     "execution_count": 125,
     "metadata": {},
     "output_type": "execute_result"
    }
   ],
   "source": [
    "df=pd.read_csv('assignment_python.csv')\n",
    "df"
   ]
  },
  {
   "cell_type": "code",
   "execution_count": 126,
   "id": "6d2a2eef",
   "metadata": {},
   "outputs": [
    {
     "data": {
      "text/plain": [
       "22065"
      ]
     },
     "execution_count": 126,
     "metadata": {},
     "output_type": "execute_result"
    }
   ],
   "source": [
    "len(df['IDCUSTOMER'].unique())"
   ]
  },
  {
   "cell_type": "code",
   "execution_count": null,
   "id": "099c8a19",
   "metadata": {},
   "outputs": [],
   "source": []
  },
  {
   "cell_type": "code",
   "execution_count": 72,
   "id": "fe0fa128",
   "metadata": {},
   "outputs": [],
   "source": [
    "from datetime import datetime as dt"
   ]
  },
  {
   "cell_type": "code",
   "execution_count": 117,
   "id": "84238ba3",
   "metadata": {},
   "outputs": [
    {
     "data": {
      "text/plain": [
       "0       -142\n",
       "1       -256\n",
       "2       -176\n",
       "3       -256\n",
       "4       -149\n",
       "        ... \n",
       "22060    -55\n",
       "22061    -55\n",
       "22062    -55\n",
       "22063    -55\n",
       "22064    -55\n",
       "Name: DEPOSIT_DATE, Length: 22065, dtype: int64"
      ]
     },
     "execution_count": 117,
     "metadata": {},
     "output_type": "execute_result"
    }
   ],
   "source": [
    "active_days=(pd.to_datetime(df['DEPOSIT_DATE'])-pd.to_datetime(dt.now())).dt.days\n",
    "active_days"
   ]
  },
  {
   "cell_type": "code",
   "execution_count": null,
   "id": "88b2b99e",
   "metadata": {},
   "outputs": [],
   "source": []
  },
  {
   "cell_type": "code",
   "execution_count": 128,
   "id": "9265afea",
   "metadata": {},
   "outputs": [],
   "source": [
    "df.insert(7,'Active_DAYS',active_days)"
   ]
  },
  {
   "cell_type": "code",
   "execution_count": 129,
   "id": "013b179d",
   "metadata": {},
   "outputs": [
    {
     "data": {
      "text/html": [
       "<div>\n",
       "<style scoped>\n",
       "    .dataframe tbody tr th:only-of-type {\n",
       "        vertical-align: middle;\n",
       "    }\n",
       "\n",
       "    .dataframe tbody tr th {\n",
       "        vertical-align: top;\n",
       "    }\n",
       "\n",
       "    .dataframe thead th {\n",
       "        text-align: right;\n",
       "    }\n",
       "</style>\n",
       "<table border=\"1\" class=\"dataframe\">\n",
       "  <thead>\n",
       "    <tr style=\"text-align: right;\">\n",
       "      <th></th>\n",
       "      <th>IDCUSTOMER</th>\n",
       "      <th>GENDER</th>\n",
       "      <th>CITY</th>\n",
       "      <th>COUNTRY</th>\n",
       "      <th>FIRST_DEPOSIT_AMOUNT</th>\n",
       "      <th>REGISTRATION_DATE</th>\n",
       "      <th>DEPOSIT_DATE</th>\n",
       "      <th>Active_DAYS</th>\n",
       "    </tr>\n",
       "  </thead>\n",
       "  <tbody>\n",
       "    <tr>\n",
       "      <th>0</th>\n",
       "      <td>5075649</td>\n",
       "      <td>M</td>\n",
       "      <td>ankara</td>\n",
       "      <td>Turkey</td>\n",
       "      <td>100.0</td>\n",
       "      <td>2009-01-10</td>\n",
       "      <td>2022-06-05</td>\n",
       "      <td>-142</td>\n",
       "    </tr>\n",
       "    <tr>\n",
       "      <th>1</th>\n",
       "      <td>5176235</td>\n",
       "      <td>M</td>\n",
       "      <td>elazığ</td>\n",
       "      <td>Turkey</td>\n",
       "      <td>400.0</td>\n",
       "      <td>2009-03-01</td>\n",
       "      <td>2022-02-11</td>\n",
       "      <td>-256</td>\n",
       "    </tr>\n",
       "    <tr>\n",
       "      <th>2</th>\n",
       "      <td>5249140</td>\n",
       "      <td>M</td>\n",
       "      <td>izmir</td>\n",
       "      <td>Turkey</td>\n",
       "      <td>200.0</td>\n",
       "      <td>2009-04-06</td>\n",
       "      <td>2022-05-02</td>\n",
       "      <td>-176</td>\n",
       "    </tr>\n",
       "    <tr>\n",
       "      <th>3</th>\n",
       "      <td>5300998</td>\n",
       "      <td>M</td>\n",
       "      <td>Üsküdar</td>\n",
       "      <td>Turkey</td>\n",
       "      <td>100.0</td>\n",
       "      <td>2009-05-02</td>\n",
       "      <td>2022-02-11</td>\n",
       "      <td>-256</td>\n",
       "    </tr>\n",
       "    <tr>\n",
       "      <th>4</th>\n",
       "      <td>5371454</td>\n",
       "      <td>M</td>\n",
       "      <td>sakarya</td>\n",
       "      <td>Turkey</td>\n",
       "      <td>880.0</td>\n",
       "      <td>2009-06-07</td>\n",
       "      <td>2022-05-29</td>\n",
       "      <td>-149</td>\n",
       "    </tr>\n",
       "    <tr>\n",
       "      <th>...</th>\n",
       "      <td>...</td>\n",
       "      <td>...</td>\n",
       "      <td>...</td>\n",
       "      <td>...</td>\n",
       "      <td>...</td>\n",
       "      <td>...</td>\n",
       "      <td>...</td>\n",
       "      <td>...</td>\n",
       "    </tr>\n",
       "    <tr>\n",
       "      <th>22060</th>\n",
       "      <td>147844121</td>\n",
       "      <td>M</td>\n",
       "      <td>İstanbul</td>\n",
       "      <td>Turkey</td>\n",
       "      <td>50.0</td>\n",
       "      <td>2022-08-31</td>\n",
       "      <td>2022-08-31</td>\n",
       "      <td>-55</td>\n",
       "    </tr>\n",
       "    <tr>\n",
       "      <th>22061</th>\n",
       "      <td>147844491</td>\n",
       "      <td>M</td>\n",
       "      <td>Eskişehir</td>\n",
       "      <td>Turkey</td>\n",
       "      <td>50.0</td>\n",
       "      <td>2022-08-31</td>\n",
       "      <td>2022-08-31</td>\n",
       "      <td>-55</td>\n",
       "    </tr>\n",
       "    <tr>\n",
       "      <th>22062</th>\n",
       "      <td>147846481</td>\n",
       "      <td>M</td>\n",
       "      <td>Van</td>\n",
       "      <td>Turkey</td>\n",
       "      <td>100.0</td>\n",
       "      <td>2022-08-31</td>\n",
       "      <td>2022-08-31</td>\n",
       "      <td>-55</td>\n",
       "    </tr>\n",
       "    <tr>\n",
       "      <th>22063</th>\n",
       "      <td>147843561</td>\n",
       "      <td>M</td>\n",
       "      <td>Antalya</td>\n",
       "      <td>Turkey</td>\n",
       "      <td>200.0</td>\n",
       "      <td>2022-08-31</td>\n",
       "      <td>2022-08-31</td>\n",
       "      <td>-55</td>\n",
       "    </tr>\n",
       "    <tr>\n",
       "      <th>22064</th>\n",
       "      <td>147844971</td>\n",
       "      <td>M</td>\n",
       "      <td>İstanbul</td>\n",
       "      <td>Turkey</td>\n",
       "      <td>150.0</td>\n",
       "      <td>2022-08-31</td>\n",
       "      <td>2022-08-31</td>\n",
       "      <td>-55</td>\n",
       "    </tr>\n",
       "  </tbody>\n",
       "</table>\n",
       "<p>22065 rows × 8 columns</p>\n",
       "</div>"
      ],
      "text/plain": [
       "       IDCUSTOMER GENDER       CITY COUNTRY  FIRST_DEPOSIT_AMOUNT  \\\n",
       "0         5075649      M     ankara  Turkey                 100.0   \n",
       "1         5176235      M     elazığ  Turkey                 400.0   \n",
       "2         5249140      M      izmir  Turkey                 200.0   \n",
       "3         5300998      M    Üsküdar  Turkey                 100.0   \n",
       "4         5371454      M    sakarya  Turkey                 880.0   \n",
       "...           ...    ...        ...     ...                   ...   \n",
       "22060   147844121      M   İstanbul  Turkey                  50.0   \n",
       "22061   147844491      M  Eskişehir  Turkey                  50.0   \n",
       "22062   147846481      M        Van  Turkey                 100.0   \n",
       "22063   147843561      M    Antalya  Turkey                 200.0   \n",
       "22064   147844971      M   İstanbul  Turkey                 150.0   \n",
       "\n",
       "      REGISTRATION_DATE DEPOSIT_DATE  Active_DAYS  \n",
       "0            2009-01-10   2022-06-05         -142  \n",
       "1            2009-03-01   2022-02-11         -256  \n",
       "2            2009-04-06   2022-05-02         -176  \n",
       "3            2009-05-02   2022-02-11         -256  \n",
       "4            2009-06-07   2022-05-29         -149  \n",
       "...                 ...          ...          ...  \n",
       "22060        2022-08-31   2022-08-31          -55  \n",
       "22061        2022-08-31   2022-08-31          -55  \n",
       "22062        2022-08-31   2022-08-31          -55  \n",
       "22063        2022-08-31   2022-08-31          -55  \n",
       "22064        2022-08-31   2022-08-31          -55  \n",
       "\n",
       "[22065 rows x 8 columns]"
      ]
     },
     "execution_count": 129,
     "metadata": {},
     "output_type": "execute_result"
    }
   ],
   "source": [
    "df"
   ]
  },
  {
   "cell_type": "code",
   "execution_count": 116,
   "id": "60a33f97",
   "metadata": {},
   "outputs": [
    {
     "data": {
      "text/plain": [
       "0       -142\n",
       "1       -256\n",
       "2       -176\n",
       "3       -256\n",
       "4       -149\n",
       "        ... \n",
       "22060    -55\n",
       "22061    -55\n",
       "22062    -55\n",
       "22063    -55\n",
       "22064    -55\n",
       "Name: DEPOSIT_DATE, Length: 22065, dtype: int64"
      ]
     },
     "execution_count": 116,
     "metadata": {},
     "output_type": "execute_result"
    }
   ],
   "source": [
    "(pd.to_datetime(df['DEPOSIT_DATE'])-pd.to_datetime(dt.now())).dt.days"
   ]
  },
  {
   "cell_type": "code",
   "execution_count": 108,
   "id": "8e3e18f9",
   "metadata": {},
   "outputs": [],
   "source": [
    "dz=dt.now()"
   ]
  },
  {
   "cell_type": "code",
   "execution_count": 109,
   "id": "516c7989",
   "metadata": {},
   "outputs": [
    {
     "data": {
      "text/plain": [
       "datetime.date(2022, 10, 24)"
      ]
     },
     "execution_count": 109,
     "metadata": {},
     "output_type": "execute_result"
    }
   ],
   "source": [
    "dz.date()"
   ]
  },
  {
   "cell_type": "code",
   "execution_count": 111,
   "id": "4118b4fc",
   "metadata": {},
   "outputs": [
    {
     "data": {
      "text/plain": [
       "Timestamp('2022-10-24 03:51:29.988955')"
      ]
     },
     "execution_count": 111,
     "metadata": {},
     "output_type": "execute_result"
    }
   ],
   "source": [
    "pd.to_datetime(dz)"
   ]
  },
  {
   "cell_type": "code",
   "execution_count": null,
   "id": "391b866c",
   "metadata": {},
   "outputs": [],
   "source": []
  }
 ],
 "metadata": {
  "kernelspec": {
   "display_name": "Python 3 (ipykernel)",
   "language": "python",
   "name": "python3"
  },
  "language_info": {
   "codemirror_mode": {
    "name": "ipython",
    "version": 3
   },
   "file_extension": ".py",
   "mimetype": "text/x-python",
   "name": "python",
   "nbconvert_exporter": "python",
   "pygments_lexer": "ipython3",
   "version": "3.8.10"
  }
 },
 "nbformat": 4,
 "nbformat_minor": 5
}
