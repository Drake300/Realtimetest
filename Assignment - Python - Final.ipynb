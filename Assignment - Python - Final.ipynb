{
 "cells": [
  {
   "cell_type": "markdown",
   "id": "2089eece",
   "metadata": {},
   "source": [
    "### Complete the tasks mentioned in each section below with relevant code and execute them to reflect the desired output\n",
    "\n",
    "1. Load the Data in the file - \"assignment_python.csv\" given to you as a .csv using Pandas \n",
    "2. Understand the data using the columns given (metadata descriptions below)\n",
    "3. Calculate the time period in days for which the customer was active (days from first deposit date) and enter the value in a new column titled 'Customer Lifetime' & what is the lifetime in days for customer ID - 5371454\n",
    "4. Find the city & country with the highest number of unique customers\n",
    "5. Find the unique count of players in each country (in descending order) & specify the number of unique players from the city - Kayseri\n",
    "6. Which city gives the third highest average first_deposit_amount and what is the average amount? \n",
    "7. Plot a graph showing the city and the descending unique count of the unique customers (upto the top 40 cities by the unique count) and make a large plot (clearly visible) and make sure the title and labels are clearly visible.\n",
    "8. Plot the conversion for each month of the data (Conversion % = No. of unique First Deposits in the month / No. of unique Registrations in the month) Here, the conversion percentage should be reflected in red, and the labels in the X-axis should be year & month out of the Deposit Dates.\n",
    "9. What was the conversion rate in June 2022, limit the answer to 2 decimal places. (in %)\n",
    "10. Make a copy of the original data in the file assignment_python as a pandas dataframe called 'df_ft' and generate the following columns:\n",
    "    1. week of day column from the deposit date column\n",
    "    2. descriptive statistics of the table\n",
    "    3. make a column with the first_deposit_amounts binned in bins of 500 and reflected against every customer ID (for example, someone with a first deposit amount of 880 should reflect in the binning column as '500-1000'.\n",
    "11. Find a 7 days moving average of number of registrations. (calculating an average of the T-7 days for every week's total registrations)\n",
    "\n",
    "Descriptions:\n",
    "- IDCUSTOMER = Unique Identifier for a customer\n",
    "- GENDER, CITY, COUNTRY = Self Explanatory\n",
    "- FIRST DEPOSIT AMOUNT = Customer's first deposit amount\n",
    "- REGISTRATION DATE = The date of registration of the customer\n",
    "\n",
    "- DEPOSIT DATE = The date of the first deposit made by the registered customer"
   ]
  },
  {
   "cell_type": "code",
   "execution_count": null,
   "id": "f42bdda0",
   "metadata": {},
   "outputs": [],
   "source": []
  }
 ],
 "metadata": {
  "kernelspec": {
   "display_name": "Python 3 (ipykernel)",
   "language": "python",
   "name": "python3"
  },
  "language_info": {
   "codemirror_mode": {
    "name": "ipython",
    "version": 3
   },
   "file_extension": ".py",
   "mimetype": "text/x-python",
   "name": "python",
   "nbconvert_exporter": "python",
   "pygments_lexer": "ipython3",
   "version": "3.8.10"
  },
  "toc": {
   "base_numbering": 1,
   "nav_menu": {},
   "number_sections": true,
   "sideBar": true,
   "skip_h1_title": false,
   "title_cell": "Table of Contents",
   "title_sidebar": "Contents",
   "toc_cell": false,
   "toc_position": {},
   "toc_section_display": true,
   "toc_window_display": false
  }
 },
 "nbformat": 4,
 "nbformat_minor": 5
}
