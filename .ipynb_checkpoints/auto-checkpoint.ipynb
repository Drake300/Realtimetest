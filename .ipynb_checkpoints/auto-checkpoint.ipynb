{
 "cells": [
  {
   "cell_type": "code",
   "execution_count": 2,
   "id": "216528fd",
   "metadata": {},
   "outputs": [
    {
     "name": "stdout",
     "output_type": "stream",
     "text": [
      "\u001b7\u001b[?47h\u001b[>4;2m\u001b[?1h\u001b=\u001b[?2004h\u001b[1;24r\u001b[?12h\u001b[?12l\u001b[29m\u001b[m\u001b[H\u001b[2J\u001b[?25l\u001b[24;1H\".bash_profile\" [New File]\u001b[2;1H\u001b[1m\u001b[34m~                                                                               \u001b[3;1H~                                                                               \u001b[4;1H~                                                                               \u001b[5;1H~                                                                               \u001b[6;1H~                                                                               \u001b[7;1H~                                                                               \u001b[8;1H~                                                                               \u001b[9;1H~                                                                               \u001b[10;1H~                                                                               \u001b[11;1H~                                                                               \u001b[12;1H~                                                                               \u001b[13;1H~                                                                               \u001b[14;1H~                                                                               \u001b[15;1H~                                                                               \u001b[16;1H~                                                                               \u001b[17;1H~                                                                               \u001b[18;1H~                                                                               \u001b[19;1H~                                                                               \u001b[20;1H~                                                                               \u001b[21;1H~                                                                               \u001b[22;1H~                                                                               \u001b[23;1H~                                                                               \u001b[1;1H\u001b[?25h\u001b[?25l\u001b[m\u001b[24;1HType  :qa  and press <Enter> to exit Vim\u0007\u001b[1;1H\u001b[?25h"
     ]
    }
   ],
   "source": [
    "!vi .bash_profile"
   ]
  },
  {
   "cell_type": "code",
   "execution_count": 1,
   "id": "bc7eea9b",
   "metadata": {},
   "outputs": [],
   "source": [
    "import os"
   ]
  },
  {
   "cell_type": "code",
   "execution_count": 2,
   "id": "c901467d",
   "metadata": {},
   "outputs": [
    {
     "name": "stdout",
     "output_type": "stream",
     "text": [
      "None\n",
      "None\n"
     ]
    }
   ],
   "source": [
    "db_user= os.environ.get('DB_USER')\n",
    "db_password= os.environ.get('DB_PASS')\n",
    "\n",
    "print(db_user)\n",
    "print(db_password)"
   ]
  },
  {
   "cell_type": "code",
   "execution_count": 18,
   "id": "08c8f1ff",
   "metadata": {},
   "outputs": [
    {
     "name": "stdout",
     "output_type": "stream",
     "text": [
      "\r\n"
     ]
    }
   ],
   "source": [
    "!echo $DB_USER"
   ]
  },
  {
   "cell_type": "code",
   "execution_count": 3,
   "id": "5f245325",
   "metadata": {},
   "outputs": [
    {
     "name": "stdout",
     "output_type": "stream",
     "text": [
      "None\n"
     ]
    }
   ],
   "source": [
    "print(os.environ.get('DB_USER'))"
   ]
  },
  {
   "cell_type": "code",
   "execution_count": 16,
   "id": "cc41e043",
   "metadata": {},
   "outputs": [
    {
     "name": "stdout",
     "output_type": "stream",
     "text": [
      "\r\n"
     ]
    }
   ],
   "source": [
    "!echo $DB_USER"
   ]
  },
  {
   "cell_type": "code",
   "execution_count": null,
   "id": "39172370",
   "metadata": {},
   "outputs": [],
   "source": []
  },
  {
   "cell_type": "code",
   "execution_count": 1,
   "id": "dc0e185e",
   "metadata": {},
   "outputs": [],
   "source": [
    "import smtplib\n",
    "#import maskpass"
   ]
  },
  {
   "cell_type": "code",
   "execution_count": 42,
   "id": "02547afe",
   "metadata": {},
   "outputs": [
    {
     "name": "stdout",
     "output_type": "stream",
     "text": [
      " assgnmnt24-10.ipynb\t'Assignment - Python - Final.ipynb'   lmnm\r\n",
      " assignment_python.csv\t auto.ipynb\t\t\t      testfile.ipynb\r\n"
     ]
    }
   ],
   "source": [
    "!ls"
   ]
  },
  {
   "cell_type": "code",
   "execution_count": 2,
   "id": "cd4056bc",
   "metadata": {},
   "outputs": [],
   "source": [
    "f = open(\"/home/jupyter/Desktop/jupyter/Realtimetest/lmnm\", \"r\")\n",
    "a=((f.read()).split('_')[6]) "
   ]
  },
  {
   "cell_type": "code",
   "execution_count": 12,
   "id": "27cf0d7b",
   "metadata": {},
   "outputs": [],
   "source": [
    "\n",
    "with smtplib.SMTP('smtp.gmail.com',587) as smtp:\n",
    "    smtp.ehlo()\n",
    "    smtp.starttls()\n",
    "    smtp.ehlo()\n",
    "    \n",
    "    smtp.login('odevil619@gmail.com','plptxaiqmnjihbeq')\n",
    "    \n",
    "    sub=\"chothan\"\n",
    "    body=\"vody hai\"\n",
    "    \n",
    "    msg=f\"Subject: {sub}\\n\\n{body}\"\n",
    "    smtp.sendmail('odevil619@gmail.com','aamir.spenc@gmail.com',msg)\n",
    "    "
   ]
  },
  {
   "cell_type": "code",
   "execution_count": 218,
   "id": "8899b6ef",
   "metadata": {},
   "outputs": [],
   "source": [
    "from datetime import datetime\n",
    "import pytz"
   ]
  },
  {
   "cell_type": "code",
   "execution_count": null,
   "id": "2a0a07c8",
   "metadata": {},
   "outputs": [],
   "source": [
    "import smtplib\n",
    "f = open(\"/home/jupyter/Desktop/jupyter/Realtimetest/lmnm\", \"r\")\n",
    "a=((f.read()).split('_')[6]) "
   ]
  },
  {
   "cell_type": "code",
   "execution_count": 4,
   "id": "88321462",
   "metadata": {},
   "outputs": [],
   "source": [
    "smtp= smtplib.SMTP('smtp.gmail.com',587)\n",
    "smtp.ehlo()\n",
    "smtp.starttls()\n",
    "smtp.ehlo()\n",
    "smtp.login('odevil619@gmail.com',a)\n",
    "sub=\"chothan\"\n",
    "body=\"vody hai\""
   ]
  },
  {
   "cell_type": "code",
   "execution_count": 5,
   "id": "eb4a9222",
   "metadata": {},
   "outputs": [],
   "source": [
    "for i in range(3):\n",
    "    msg=f\"Subject: {sub}\\n\\n{body}\"\n",
    "    smtp.sendmail('odevil619@gmail.com','dramore90@gmail.com',msg)"
   ]
  },
  {
   "cell_type": "code",
   "execution_count": 219,
   "id": "2806f34e",
   "metadata": {},
   "outputs": [
    {
     "data": {
      "text/plain": [
       "'22:47'"
      ]
     },
     "execution_count": 219,
     "metadata": {},
     "output_type": "execute_result"
    }
   ],
   "source": [
    "datetime.now(pytz.utc).strftime(\"%H:%M\")        #utc time"
   ]
  },
  {
   "cell_type": "code",
   "execution_count": 224,
   "id": "52b7ecad",
   "metadata": {},
   "outputs": [
    {
     "data": {
      "text/plain": [
       "'19/12/2022'"
      ]
     },
     "execution_count": 224,
     "metadata": {},
     "output_type": "execute_result"
    }
   ],
   "source": [
    "datetime.now(pytz.utc).strftime(\"%d/%m/%Y\")               #=='18/12/2022'"
   ]
  },
  {
   "cell_type": "code",
   "execution_count": 21,
   "id": "1731b6f1",
   "metadata": {},
   "outputs": [
    {
     "name": "stdout",
     "output_type": "stream",
     "text": [
      "/home/jupyter/Desktop/jupyter/Realtimetest\r\n"
     ]
    }
   ],
   "source": [
    "!pwd"
   ]
  },
  {
   "cell_type": "code",
   "execution_count": 67,
   "id": "93d2d5b8",
   "metadata": {},
   "outputs": [],
   "source": [
    "import pandas as pd\n",
    "df=pd.read_csv('/home/jupyter/Desktop/jupyter/Realtimetest/file.csv')"
   ]
  },
  {
   "cell_type": "code",
   "execution_count": 68,
   "id": "3163001b",
   "metadata": {},
   "outputs": [
    {
     "data": {
      "text/html": [
       "<div>\n",
       "<style scoped>\n",
       "    .dataframe tbody tr th:only-of-type {\n",
       "        vertical-align: middle;\n",
       "    }\n",
       "\n",
       "    .dataframe tbody tr th {\n",
       "        vertical-align: top;\n",
       "    }\n",
       "\n",
       "    .dataframe thead th {\n",
       "        text-align: right;\n",
       "    }\n",
       "</style>\n",
       "<table border=\"1\" class=\"dataframe\">\n",
       "  <thead>\n",
       "    <tr style=\"text-align: right;\">\n",
       "      <th></th>\n",
       "      <th>Email</th>\n",
       "      <th>Sub</th>\n",
       "      <th>body</th>\n",
       "      <th>Date</th>\n",
       "      <th>time</th>\n",
       "    </tr>\n",
       "  </thead>\n",
       "  <tbody>\n",
       "    <tr>\n",
       "      <th>0</th>\n",
       "      <td>abc@gmail.com</td>\n",
       "      <td>Book Return</td>\n",
       "      <td>return of book</td>\n",
       "      <td>18/12/2022</td>\n",
       "      <td>21:02</td>\n",
       "    </tr>\n",
       "    <tr>\n",
       "      <th>1</th>\n",
       "      <td>clcm@gmail.com</td>\n",
       "      <td>Book Refund</td>\n",
       "      <td>refund of Book</td>\n",
       "      <td>18/12/2022</td>\n",
       "      <td>22:30</td>\n",
       "    </tr>\n",
       "  </tbody>\n",
       "</table>\n",
       "</div>"
      ],
      "text/plain": [
       "            Email          Sub            body        Date   time\n",
       "0   abc@gmail.com  Book Return  return of book  18/12/2022  21:02\n",
       "1  clcm@gmail.com  Book Refund  refund of Book  18/12/2022  22:30"
      ]
     },
     "execution_count": 68,
     "metadata": {},
     "output_type": "execute_result"
    }
   ],
   "source": [
    "df"
   ]
  },
  {
   "cell_type": "code",
   "execution_count": 45,
   "id": "226c5c66",
   "metadata": {},
   "outputs": [],
   "source": [
    "smtp= smtplib.SMTP('smtp.gmail.com',587)\n",
    "smtp.ehlo()\n",
    "smtp.starttls()\n",
    "smtp.ehlo()\n",
    "smtp.login('odevil619@gmail.com',a)\n",
    "sub=df['Sub'][0]\n",
    "body=df['body'][0]"
   ]
  },
  {
   "cell_type": "code",
   "execution_count": 69,
   "id": "e4dca5fb",
   "metadata": {},
   "outputs": [
    {
     "name": "stdout",
     "output_type": "stream",
     "text": [
      "True\n"
     ]
    }
   ],
   "source": [
    "if df['time'][0]==datetime.now(pytz.utc).strftime(\"%H:%M\") :\n",
    "    print('True')\n",
    "else:\n",
    "    print('false')"
   ]
  },
  {
   "cell_type": "code",
   "execution_count": null,
   "id": "68a1899e",
   "metadata": {},
   "outputs": [],
   "source": []
  },
  {
   "cell_type": "code",
   "execution_count": null,
   "id": "67e7e7b5",
   "metadata": {},
   "outputs": [],
   "source": []
  },
  {
   "cell_type": "code",
   "execution_count": 223,
   "id": "7904d8ae",
   "metadata": {},
   "outputs": [
    {
     "data": {
      "text/plain": [
       "'14:24'"
      ]
     },
     "execution_count": 223,
     "metadata": {},
     "output_type": "execute_result"
    }
   ],
   "source": [
    "datetime.now(pytz.utc).strftime(\"%H:%M\")     #UTC"
   ]
  },
  {
   "cell_type": "code",
   "execution_count": null,
   "id": "4236d2c1",
   "metadata": {},
   "outputs": [],
   "source": []
  },
  {
   "cell_type": "code",
   "execution_count": 116,
   "id": "a89a4901",
   "metadata": {},
   "outputs": [],
   "source": [
    "f = open(\"/home/jupyter/Desktop/jupyter/Realtimetest/lmnm\", \"r\")\n",
    "a=((f.read()).split('_')[6]) "
   ]
  },
  {
   "cell_type": "code",
   "execution_count": 213,
   "id": "c80de488",
   "metadata": {},
   "outputs": [
    {
     "name": "stdout",
     "output_type": "stream",
     "text": [
      "22:37\n",
      "18/12/2022\n",
      "ok\n",
      "22:38\n",
      "18/12/2022\n",
      "22:38\n",
      "18/12/2022\n",
      "22:38\n",
      "18/12/2022\n",
      "22:39\n",
      "18/12/2022\n",
      "22:39\n",
      "18/12/2022\n",
      "22:39\n",
      "18/12/2022\n",
      "22:39\n",
      "18/12/2022\n",
      "22:39\n",
      "18/12/2022\n",
      "22:39\n",
      "18/12/2022\n",
      "22:40\n",
      "18/12/2022\n",
      "22:40\n",
      "18/12/2022\n",
      "22:40\n",
      "18/12/2022\n",
      "22:40\n",
      "18/12/2022\n",
      "22:40\n",
      "18/12/2022\n"
     ]
    },
    {
     "ename": "KeyboardInterrupt",
     "evalue": "",
     "output_type": "error",
     "traceback": [
      "\u001b[0;31m---------------------------------------------------------------------------\u001b[0m",
      "\u001b[0;31mKeyboardInterrupt\u001b[0m                         Traceback (most recent call last)",
      "Cell \u001b[0;32mIn [213], line 25\u001b[0m\n\u001b[1;32m     23\u001b[0m     smtp\u001b[38;5;241m.\u001b[39msendmail(\u001b[38;5;124m'\u001b[39m\u001b[38;5;124modevil619@gmail.com\u001b[39m\u001b[38;5;124m'\u001b[39m,\u001b[38;5;124m'\u001b[39m\u001b[38;5;124mdramore90@gmail.com\u001b[39m\u001b[38;5;124m'\u001b[39m,msg)\n\u001b[1;32m     24\u001b[0m     time\u001b[38;5;241m.\u001b[39msleep(\u001b[38;5;241m50\u001b[39m)\n\u001b[0;32m---> 25\u001b[0m \u001b[43mtime\u001b[49m\u001b[38;5;241;43m.\u001b[39;49m\u001b[43msleep\u001b[49m\u001b[43m(\u001b[49m\u001b[38;5;241;43m10\u001b[39;49m\u001b[43m)\u001b[49m\n",
      "\u001b[0;31mKeyboardInterrupt\u001b[0m: "
     ]
    }
   ],
   "source": [
    "import pandas as pd\n",
    "import time\n",
    "df=pd.read_csv('/home/jupyter/Desktop/jupyter/Realtimetest/file.csv')\n",
    "smtp= smtplib.SMTP('smtp.gmail.com',587)\n",
    "smtp.ehlo()\n",
    "smtp.starttls()\n",
    "smtp.ehlo()\n",
    "smtp.login('odevil619@gmail.com',a)\n",
    "while True:\n",
    "    tm=datetime.now(pytz.utc).strftime(\"%H:%M\") \n",
    "    print(tm)\n",
    "    dt=datetime.now(pytz.utc).strftime(\"%d/%m/%Y\") \n",
    "    print(dt)\n",
    "    if tm in list(df['time']) and dt in list(df['Date']):\n",
    "        it=df[df['time']==tm].index[0]\n",
    "        #id=df[df['Date']==dt].index\n",
    "        print('ok')\n",
    "        sub=df.iloc[it,1]\n",
    "        #print('sub',sub)\n",
    "        #print('body',body)\n",
    "        body=df.iloc[it,2]\n",
    "        msg=f\"Subject: {sub}\\n\\n{body}\"\n",
    "        smtp.sendmail('odevil619@gmail.com','dramore90@gmail.com',msg)\n",
    "        time.sleep(50)\n",
    "    time.sleep(10)"
   ]
  },
  {
   "cell_type": "code",
   "execution_count": null,
   "id": "fff1e375",
   "metadata": {},
   "outputs": [],
   "source": []
  },
  {
   "cell_type": "code",
   "execution_count": null,
   "id": "2dd82e77",
   "metadata": {},
   "outputs": [],
   "source": []
  },
  {
   "cell_type": "code",
   "execution_count": null,
   "id": "c0b3b0fa",
   "metadata": {},
   "outputs": [],
   "source": []
  },
  {
   "cell_type": "code",
   "execution_count": null,
   "id": "420f6524",
   "metadata": {},
   "outputs": [],
   "source": []
  },
  {
   "cell_type": "code",
   "execution_count": null,
   "id": "07d22544",
   "metadata": {},
   "outputs": [],
   "source": []
  },
  {
   "cell_type": "code",
   "execution_count": null,
   "id": "0e14bdf4",
   "metadata": {},
   "outputs": [],
   "source": []
  },
  {
   "cell_type": "code",
   "execution_count": null,
   "id": "73509f57",
   "metadata": {},
   "outputs": [],
   "source": []
  },
  {
   "cell_type": "code",
   "execution_count": null,
   "id": "f0a98b69",
   "metadata": {},
   "outputs": [],
   "source": []
  },
  {
   "cell_type": "code",
   "execution_count": null,
   "id": "244aac08",
   "metadata": {},
   "outputs": [],
   "source": []
  },
  {
   "cell_type": "code",
   "execution_count": 222,
   "id": "3d267028",
   "metadata": {},
   "outputs": [
    {
     "data": {
      "text/plain": [
       "datetime.datetime(2022, 12, 19, 14, 24, 15, 673281, tzinfo=<UTC>)"
      ]
     },
     "execution_count": 222,
     "metadata": {},
     "output_type": "execute_result"
    }
   ],
   "source": [
    "datetime.now(pytz.utc)"
   ]
  },
  {
   "cell_type": "code",
   "execution_count": null,
   "id": "c79dfb9e",
   "metadata": {},
   "outputs": [],
   "source": []
  },
  {
   "cell_type": "code",
   "execution_count": null,
   "id": "4b400331",
   "metadata": {},
   "outputs": [],
   "source": []
  }
 ],
 "metadata": {
  "kernelspec": {
   "display_name": "Python 3 (ipykernel)",
   "language": "python",
   "name": "python3"
  },
  "language_info": {
   "codemirror_mode": {
    "name": "ipython",
    "version": 3
   },
   "file_extension": ".py",
   "mimetype": "text/x-python",
   "name": "python",
   "nbconvert_exporter": "python",
   "pygments_lexer": "ipython3",
   "version": "3.8.10"
  }
 },
 "nbformat": 4,
 "nbformat_minor": 5
}
